{
 "cells": [
  {
   "cell_type": "markdown",
   "metadata": {},
   "source": [
    "\n",
    "<h1 align=\"center\">Práctica 5. Medida empírica de la complejidad computacional</h1>\n",
    "<h3 style=\"display:block; margin-top:5px;\" align=\"center\">Programación</h3>\n",
    "<h3 style=\"display:block; margin-top:5px;\" align=\"center\">Grado en Ciencia de Datos</h3>    \n",
    "<h3 style=\"display:block; margin-top:5px;\" align=\"center\">Universitat Politècnica de València</h3>\n",
    "<h3 style=\"display:block; margin-top:5px;\" align=\"center\">Curso 2021-22</h3>\n",
    "<br>"
   ]
  },
  {
   "cell_type": "markdown",
   "metadata": {},
   "source": [
    "## Índice\n",
    "1. ### [Objetivos](#objetivos)\n",
    "1. ### [Estructura de un experimento de medida](#estructura_exp)\n",
    "1. ### [Generación de datos de entrada para distintas tallas e instancias](#gen_datos)\n",
    "1. ### [Función de medida de tiempos](#fun_medida)\n",
    "1. ### [Actividad 1: implementar función de medida de tiempos](#act1)\n",
    "1. ### [Actividad 2: medida de tiempos de un conjunto de algoritmos](#act2)\n",
    "1. ### [Actividad 3: visualización gráfica de los tiempos medidos](#act3)\n",
    "1. ### [Actividad 4: medida de tiempos de vaciar una lista usando `pop`](#act4)\n",
    "1. ### [Actividad 5: obtención de funciones de coste que se aproximen a los tiempos medidos](#act5)\n",
    "1. ### [Actividad 6: medida y visualización de métodos directos de ordenación](#act6)\n",
    "1. ### [Actividad 7: medida y visualización de `mergeSort`](#act7)\n",
    "\n"
   ]
  },
  {
   "cell_type": "markdown",
   "metadata": {},
   "source": [
    "<a id='objetivos'></a>\n",
    "## Objetivos:\n",
    "- Introducir el análisis de algoritmos en el laboratorio, usando un entorno real de programación: análisis empírico.\n",
    "- Representar gráficamente el crecimiento de los costes temporales medidos para confirmar los resultados teóricos: uso de la librería **matplotlib.pyplot**.\n",
    "- Inferir funciones aproximadas que definan el comportamiento temporal de un algoritmo: uso de la librería **scypy.optimize**.\n",
    "- Usar las funciones inferidas para realizar predicciones."
   ]
  },
  {
   "cell_type": "markdown",
   "metadata": {},
   "source": [
    "<a id='estructura_exp'></a>\n",
    "## Estructura de un experimento de medida\n",
    "\n",
    "El análisis empírico se realiza tras el análisis teórico. Al diseñar un análisis empírico se deben tomar en consideración los siguientes puntos:\n",
    "\n",
    "- **La medida de tiempo debe hacerse para varias tallas:** el objetivo es obtener una función de coste que tenga como parámetro la talla del problema; por tanto, deben emplearse diversas tallas para obtener el perfil de esa función.\n",
    "\n",
    "- **Cuando existan instancias significativas, deberán medirse separadamente:** los casos mejor, peor y promedio presentan habitualmente distintas tasas de crecimiento y, por tanto, distinta función de coste; así pues, deben medirse de manera separada siempre y cuando se determine, con un análisis del código, que existen instancias significativas.\n",
    "\n",
    "- **Para obtener resultados consistentes se deben tomar varias medidas,** una única medida por talla no es significativa, ya que:\n",
    "\n",
    "    - El reloj para realizar la medición (ej: `time.process_time()`) puede tener una precisión limitada. Si medimos algo de poca duración, el error relativo será más alto que si lo que medimos tarda mucho más.\n",
    "\n",
    "    - La  medida puede verse afectada por condiciones del entorno (por ejemplo, la ejecución de otros procesos en el ordenador).\n",
    "\n",
    "    - Es mejor medir varias instancias de la misma talla, siempre que esto sea posible, para que la medición no dependa de condiciones particulares de una sola instancia.\n",
    "    \n",
    "    > **Nota:** En esta práctica, para simplificar, generaremos **una única instancia**. Generar varias instancias (particularmente en el caso de ordenar vectores con valores aleatorios) daría lugar a resultados más robustos, pero complicaría más el código a realizar y la práctica propuesta.\n",
    "   \n",
    "Por tanto, para garantizar resultados correctos se deben tomar varias medidas, promediándolas. Dicha media puede considerarse un resultado significativo.\n",
    "\n",
    "\n",
    "> **Nota:** El número de medidas a realizar para cada talla y tipo de instancia dependerá del tiempo de ejecución, tal y como se explica más abajo.\n"
   ]
  },
  {
   "cell_type": "markdown",
   "metadata": {},
   "source": [
    "<a id='gen_datos'></a>\n",
    "## Generación de datos de entrada para distintas tallas e instancias\n",
    "\n",
    "Cuando el algoritmo a medir tiene como dato de entrada una lista, vector o array, la talla del algoritmo será, generalmente, el tamaño de dicha lista, vector o array. Por tanto, conviene disponer de funciones que, dada una talla, nos generen automáticamente una lista de dicho tamaño.\n",
    "\n",
    "Además, si existen distintas instancias significativas (el coste del algoritmo varía significativamente dependiendo de los datos de entrada), entonces necesitamos generar datos de entrada para cada una de estas instancias.\n",
    "\n",
    "**Por ejemplo,** para un algoritmo de ordenación particular (esto **no** sucede con todos los algoritmos de ordenación, pero sí con alguno de los que vamos a medir):\n",
    "\n",
    "- El caso *mejor* podría darse cuando la lista de entrada ya está ordenada,\n",
    "- El caso *peor* cuando está ordenada al revés (en modo decreciente),\n",
    "- El caso *promedio* cuando contiene valores aleatorios.\n",
    "\n",
    "A continuación se definen tres funciones para generar listas de una talla dada en las tres situaciones planteadas:\n",
    "- Lista con valores en orden creciente\n",
    "- Lista con valores en orden decreciente\n",
    "- Lista con valores aleatorios\n",
    "\n",
    "> **Atención:** Observa que en el código de la celda siguiente aparece\n",
    ">\n",
    "> ```Python\n",
    "> import algorithms as alg\n",
    "> ```\n",
    ">\n",
    "> Se refiere a un fichero `algorithms.py` que debes descargar junto a \n",
    "> este notebook y dejarlo en la misma carpeta. Este fichero contiene funciones que implementan cada uno de los algoritmos que vamos a medir.\n",
    ">\n",
    "> Debes abrirlo y estudiarlo para entender mejor la práctica."
   ]
  },
  {
   "cell_type": "code",
   "execution_count": 1,
   "metadata": {},
   "outputs": [],
   "source": [
    "import sys\n",
    "import random\n",
    "import numpy as np\n",
    "import matplotlib.pyplot as plt\n",
    "import itertools\n",
    "import algorithms as alg\n",
    "\n",
    "\n",
    "def generate_increasing_vector(vectorsize):\n",
    "    return list(range(vectorsize))\n",
    "\n",
    "def generate_decreasing_vector(vectorsize):\n",
    "    return list(range(vectorsize-1,-1,-1))\n",
    "\n",
    "def generate_random_vector(vectorsize):\n",
    "    return [random.randrange(0, 10000000) for i in range(vectorsize)]\n"
   ]
  },
  {
   "cell_type": "markdown",
   "metadata": {},
   "source": [
    "<a id='fun_medida'></a>\n",
    "## Función de medida de tiempos\n",
    "\n",
    "Para nuestros experimentos necesitaremos también una función genérica que nos permita medir el tiempo de ejecución de un algoritmo determinado, para unos datos de entrada determinados.\n",
    "\n",
    "Esta función debería tener las siguientes características:\n",
    "\n",
    "- Debe recibir como parámeros:\n",
    "    - La función que implementa el algoritmo a medir. \n",
    "    - Un vector (lista o array) con los datos de entrada.\n",
    "    \n",
    "      > **Nota:** Estamos asumiendo que todas las funciones que le pasemos a esta función reciben como único argumento una lista Python. Realmente no hace falta que sea una lista pero sí un argumento que tenga un método `.copy()` para hacerle una copia.\n",
    "      \n",
    "- Debe repetir la medición un *número suficiente* de veces y devolver el promedio de todas las medidas. \n",
    "- En lugar de fijar el número de veces que queremos repetir la medida, fijaremos el tiempo **mínimo** que queremos estar midiendo. Esto es, repetiremos el proceso de medida mientras el tiempo total empleado para todas las medidas no supere cierto umbral.\n",
    "- Utilizaremos la función `time.process_time()` que devuelve el tiempo de CPU (en segundos) que lleva consumido nuestro proceso (proceso viene a ser equivalente a \"programa en ejecución\") hasta el momento."
   ]
  },
  {
   "cell_type": "markdown",
   "metadata": {},
   "source": [
    "<a id='act1'></a>\n",
    "## Actividad 1: implementar función de medida de tiempos\n",
    "\n",
    "Completa la función `measure_time` que aparece a continuación. Esta función debe ejecutar, durante un mínimo de 0.5 segundos, tantas veces como pueda, el algoritmo a medir para unos datos de entrada dados. El tiempo de una ejecución del algoritmo será el tiempo total que hemos estado midiendo dividido por el número de ejecuciones. \n",
    "\n",
    "### Parámetros:\n",
    "- `function`: función en la que se encuentra implementado el algoritmo a medir.\n",
    "- `vect`: vector (lista o array) con los datos de entrada del algoritmo a medir.\n",
    "\n",
    "### Devuelve:\n",
    "- El tiempo promedio (en segundos) que tarda en ejecutarse la función `function` con los datos de entrada `vect`.\n",
    "\n",
    "### Algoritmo:\n",
    "- `t_accum` = tiempo de proceso acumulado a lo largo de las ejecuciones de la función\n",
    "`function` pasándole una copia de `vect`.\n",
    "- `repeticiones` contará el número de veces que hemos ejecutado `function`.\n",
    "- mientras `t_accum < 0.5` segundos\n",
    "    - Crear una copia del vector de entrada (método `copy`)\n",
    "    - Invocar a la función `function` que queremos medir pasándole como parámetro la copia del vector.\n",
    "    > **Nota:** debemos acumular en `t_accum` el tiempo de ejecución de esta función. Para ello debemos llamar a `time.process_time()` antes y después, la diferencia será una estimación de ese tiempo de ejecución.\n",
    "    - Actualizar adecuadamente `repeticiones`.\n",
    "- Devolver el tiempo promedio (tiempo total / número de medidas realizadas)"
   ]
  },
  {
   "cell_type": "code",
   "execution_count": 2,
   "metadata": {},
   "outputs": [],
   "source": [
    "import time\n",
    "\n",
    "def measure_time(function, vect):\n",
    "    t_accum = 0\n",
    "    repeticiones = 0\n",
    "    entrada = vect.copy()\n",
    "    \n",
    "    # COMPLETAR\n",
    "    \n",
    "    while t_accum < 0.5:\n",
    "        vect = entrada.copy()\n",
    "        t1 = time.process_time()\n",
    "        function(vect)\n",
    "        t2 = time.process_time()\n",
    "        t_accum += (t2-t1)\n",
    "        repeticiones += 1\n",
    "    return t_accum/repeticiones\n"
   ]
  },
  {
   "cell_type": "markdown",
   "metadata": {},
   "source": [
    "### Test\n",
    "Comprueba que la función implementada se ejecuta sin errores. Para ello, genera un vector aleatorio de tamaño 10000 y muestra el tiempo que tarda la función **sort** de **numpy** (**np.sort**) en ordenarlo."
   ]
  },
  {
   "cell_type": "code",
   "execution_count": 3,
   "metadata": {},
   "outputs": [
    {
     "data": {
      "text/plain": [
       "0.0019157088122605363"
      ]
     },
     "execution_count": 3,
     "metadata": {},
     "output_type": "execute_result"
    }
   ],
   "source": [
    "v = generate_random_vector(10000)\n",
    "# COMPLETAR\n",
    "measure_time(np.sort, v)"
   ]
  },
  {
   "cell_type": "markdown",
   "metadata": {},
   "source": [
    "<a id='act2'></a>\n",
    "## Actividad 2: medida de tiempos de un conjunto de algoritmos\n",
    "\n",
    "Ahora que ya tenemos una función para medir el tiempo de ejecución, vamos a aplicarlo a un conjunto dado de algoritmos para distintas tallas y tipos de instancia.\n",
    "\n",
    "Para ello se propone que implementes la función `measure_algorithms` que describimos a continuación:\n",
    "\n",
    "### Parámetros de entrada:\n",
    "\n",
    "- `algorithms`: es un **diccionario** que contiene como clave de cada entrada el nombre del algoritmo a medir y como valor la función Python que lo implementa.\n",
    "- `gen_instances`: otro **diccionario** que tiene como clave una cadena que describe el tipo de generación de instancia y como valor una función que recibe una talla y genera un vector de esa talla. En nuestro caso, el valor será alguna de las siguientes funciones:\n",
    "\n",
    "    - `generate_random_vector` genera valores aleatorios\n",
    "    - `generate_increasing_vector` genera valores crecientes\n",
    "    - `generate_decreasing_vector` genera valores decrecientes\n",
    "    \n",
    "- `sizes`: una **lista** con las tallas para las que se desea medir tiempos.\n",
    "\n",
    "### Devuelve:\n",
    "\n",
    "- Un **diccionario** que contiene como clave de cada entrada la combinación de los nombres (separados por \"`:`\") del algoritmo que se ha medido y el tipo de instancia generada. El valor asociado a cada entrada es la lista con los tiempos medidos para cada una de las tallas del vector `sizes`.\n",
    "\n",
    "\n",
    "### Ejemplo:\n",
    "\n",
    "Un ejemplo de uso de la función podría ser el siguiente:\n",
    "\n",
    "```python\n",
    "algorithms = {'Ordenacion numpy'  : np.sort,\n",
    "              'Ordenacion ins. directa' : alg.insertionSort }\n",
    "instances = { 'mejor' : generate_increasing_vector,\n",
    "              'peor' : generate_decreasing_vector }\n",
    "sizes = [1000, 2000, 3000, 4000, 5000]\n",
    "ydata = measure_algorithms(algorithms, instances, sizes)\n",
    "```\n",
    "\n",
    "Una posible salida para esa entrada sería:\n",
    "\n",
    "```\n",
    "{'Ordenacion numpy:mejor': [8.667703084921863e-05, 0.00015043693862817274,\n",
    "                            0.00022507754635463063, 0.00029896581123061154,\n",
    "                            0.0003713250296735766],\n",
    "'Ordenacion ins. directa:mejor': [0.0001630165749674007, 0.00032552819661458367,\n",
    "                                  0.0005137583531827937, 0.0006722014408602206,\n",
    "                                  0.0007490311407185391],\n",
    "'Ordenacion numpy:peor': [8.25168207920845e-05, 0.00015562347728687712,\n",
    "                          0.00024043783076922284, 0.00031401251442911,\n",
    "                          0.00039296361695449034],\n",
    "'Ordenacion ins. directa:peor': [0.08933096233333367, 0.3769609520000001,\n",
    "                                 0.8582383829999998, 1.5401752769999995,\n",
    "                                 2.4022259240000015]}\n",
    "```"
   ]
  },
  {
   "cell_type": "markdown",
   "metadata": {},
   "source": [
    "### Algoritmo:\n",
    "- Crear un diccionario `measures` cuyas claves sean cadenas de texto resultantes de concatenar el nombre de cada algoritmo (claves del diccionario `algorithms`) con el nombre de cada tipo de instancia (claves del diccionario `gen_instances`), separados por \"`:`\". El valor asociado a cada clave será, inicialmente, una lista vacía. Por ejemplo, si los algoritmos son `'alg1'` y `'alg2'` y las instancias `'peor'` y `'mejor'`, entonces deberá crearse el diccionario `measures = {'alg1:mejor':[], 'alg1:peor':[], 'alg2:mejor':[], 'alg2:peor':[]}`. \n",
    "\n",
    "En estas listas vacías guardaremos más adelante los tiempos para distintas tallas de cada uno de los algoritmos en cada una de las instancias. Para ello:\n",
    "\n",
    "\n",
    "- Para cada instancia del diccionario `gen_instances`:    \n",
    "    - Para cada talla de la lista `sizes`:\n",
    "        - Llamar a la función generadora de instancia y generar una instancia (una lista) para la talla dada.\n",
    "        - Para cada algoritmo del diccionario `algorithms`:\n",
    "             - Medir el tiempo de ejecución del algoritmo con la instancia generada.\n",
    "             - Añadir (método `append`) esa medida en la lista correspondiente del diccionario `measures`.\n",
    "- Devolver el diccionario `measures`"
   ]
  },
  {
   "cell_type": "code",
   "execution_count": 19,
   "metadata": {},
   "outputs": [],
   "source": [
    "def measure_algorithms(algorithms, gen_instances, sizes):\n",
    "    # Diccionario vacio\n",
    "    measures = {}\n",
    "    # Recorrer algorithms\n",
    "    for algoritmo in algorithms:\n",
    "        for tipo in gen_instances:\n",
    "            # Lista vacia\n",
    "            measures[f\"{algoritmo}:{tipo}\"] = []\n",
    "\n",
    "    # Recorrer gen_instances        \n",
    "    for clave,instancia in gen_instances.items():\n",
    "        for talla in sizes:\n",
    "            ins = instancia(talla)\n",
    "            for clave2,algoritmo in algorithms.items():\n",
    "                tiempo = measure_time(algoritmo,ins)\n",
    "                s = clave2 + ':' + clave\n",
    "                measures[f\"{clave2}:{clave}\"].append(tiempo)\n",
    "            \n",
    "    return measures\n"
   ]
  },
  {
   "cell_type": "markdown",
   "metadata": {},
   "source": [
    "### Test"
   ]
  },
  {
   "cell_type": "code",
   "execution_count": 20,
   "metadata": {},
   "outputs": [
    {
     "name": "stdout",
     "output_type": "stream",
     "text": [
      "{'Ordenacion numpy:mejor': [0.00014310246136233542, 0.00039032006245121, 0.0005219206680584551, 0.0005208333333333333, 0.0007132667617689016], 'Ordenacion numpy:peor': [0.00015508684863523573, 0.00035561877667140827, 0.0003748125937031484, 0.0004784688995215311, 0.0008547008547008547], 'Ordenacion ins. directa:mejor': [0.00036656891495601173, 0.0005868544600938967, 0.0009380863039399625, 0.001201923076923077, 0.0015432098765432098], 'Ordenacion ins. directa:peor': [0.20833333333333334, 0.765625, 1.78125, 3.09375, 5.9375]}\n"
     ]
    }
   ],
   "source": [
    "algorithms = {'Ordenacion numpy'  : np.sort,\n",
    "              'Ordenacion ins. directa' : alg.insertionSort }\n",
    "instances = { 'mejor' : generate_increasing_vector,\n",
    "         'peor' : generate_decreasing_vector }\n",
    "sizes = [1000, 2000, 3000, 4000, 5000]\n",
    "ydata = measure_algorithms(algorithms, instances, sizes)\n",
    "print(ydata)"
   ]
  },
  {
   "cell_type": "markdown",
   "metadata": {},
   "source": [
    "<a id='act3'></a>\n",
    "## Actividad 3: visualización gráfica de los tiempos medidos\n",
    "\n",
    "Los resultados numéricos usualmente se interpretan mejor con su representación gráfica. En el tutorial `introduccion_matplotlib.ipynb`, disponible en PoliformaT, puedes encontrar una pequeña introducción a la visualización de datos mediante `matplotlib`.\n",
    "\n",
    "A continuación debes escribir una función que genere una gráfica en la que se representan los tiempos medidos en una serie de algoritmos (eje y) para distintas tallas (eje x). Debe generar una gráfica de puntos (**sin unir** mediante líneas cada valor representado).\n",
    "\n",
    "### Parámetros:\n",
    "- `xdata`: lista con las tallas para las que se han realizado medidas.\n",
    "- `ydata`: diccionario que contiene como clave de cada entrada el nombre e instancia del algoritmo medido y como valor una lista (del mismo tamaño que `xdata`) con los tiempos medidos. "
   ]
  },
  {
   "cell_type": "code",
   "execution_count": 6,
   "metadata": {},
   "outputs": [],
   "source": [
    "def plot_data(xdata, ydata):\n",
    "    # COMPLETAR\n",
    "    for i in ydata:\n",
    "        plt.scatter(xdata, ydata[i])"
   ]
  },
  {
   "cell_type": "markdown",
   "metadata": {},
   "source": [
    "### Test\n",
    "Para comprobar el correcto funcionamiento, prueba visualizar con la función que acabas de implementar los siguientes datos:"
   ]
  },
  {
   "cell_type": "code",
   "execution_count": 7,
   "metadata": {},
   "outputs": [
    {
     "data": {
      "image/png": "[encoded data removed]",
      "text/plain": [
       "<Figure size 432x288 with 1 Axes>"
      ]
     },
     "metadata": {
      "needs_background": "light"
     },
     "output_type": "display_data"
    }
   ],
   "source": [
    "xdata_test = [1,2,3,4,5,6,7,8,9,10]\n",
    "ydata_test = {'Alg1:mejor' : [2,4,6,8,10,12,14,16,18,20],\n",
    "              'Alg1:peor' : [1,4,9,16,25,36,49,64,81,100]}\n",
    "plot_data(xdata_test, ydata_test)"
   ]
  },
  {
   "cell_type": "markdown",
   "metadata": {},
   "source": [
    "<a id='act4'></a>\n",
    "## Actividad 4: medida de tiempos de vaciar una lista usando `pop`\n",
    "\n",
    "En esta actividad vamos a medir el tiempo que cuesta vaciar una lista Python usando el método `pop` que extrae un elemento de una lista usando dos versiones:\n",
    "\n",
    "- Vaciar los elementos del final (usando `lista.pop()` sin argumentos).\n",
    "- Hacer lo mismo pero quitando los elementos iniciales (usando `lista.pop(0)`).\n",
    "\n",
    "A pesar de que ambos algoritmos tienen como única diferencia el argumento `0` de la llamada a `pop()`, el coste varía sustancialmente porque eliminar un elemento del final tiene coste constante $\\Theta(1)$ (en esta caso también se podría decir $O(1)$), mientras que eliminar un elemento del inicio (`lista.pop(0)`) requiere copiar el resto de elementos una posición hacia atrás, y eso, para una lista de longitud $n$, tiene coste $\\Theta(n)$. Para más información puedes consultar [el siguiente enlace](https://wiki.python.org/moin/TimeComplexity).\n",
    "\n",
    "### Experimento a realizar:\n",
    "\n",
    "Dados los diccionarios `pop_algorithms`con los algoritmos que se desean medir y `gen_instances`con el tipo de instancia que se quiere medir:\n",
    "\n",
    "1. Llama adecuadamente a la función `measure_algorithms` para que realice mediciones de tiempos para tallas entre 5000 y 50000, con incrementos de 5000 en 5000.\n",
    "2. Invoca a la función `plot_data` que has completado en la actividad anterior pasándole el diccionario devuelto por `measure_algorithms`.\n"
   ]
  },
  {
   "cell_type": "code",
   "execution_count": 8,
   "metadata": {},
   "outputs": [
    {
     "data": {
      "image/png": "[encoded data removed]",
      "text/plain": [
       "<Figure size 432x288 with 1 Axes>"
      ]
     },
     "metadata": {
      "needs_background": "light"
     },
     "output_type": "display_data"
    }
   ],
   "source": [
    "# Diccionario con nombre_algoritmo : funcion_que_lo_implementa\n",
    "pop_algorithms =  {'empty_front'  : alg.empty_front,\n",
    "                   'empty_ending' : alg.empty_ending }\n",
    "\n",
    "# Diccionario con los tipos de generación de las instancias a medir\n",
    "gen_instances = { 'increasing' : generate_increasing_vector }\n",
    "\n",
    "\n",
    "# COMPLETAR\n",
    "tallas = range(5000,50001,5000)\n",
    "m = measure_algorithms(pop_algorithms,gen_instances,tallas)\n",
    "\n",
    "plot_data(tallas,m)\n"
   ]
  },
  {
   "cell_type": "markdown",
   "metadata": {},
   "source": [
    "<a id='act5'></a>\n",
    "## Actividad 5: obtención de funciones de coste que se aproximen a los tiempos medidos\n",
    "\n",
    "Una vez obtenidos y visualizados los datos, resulta interesante encontrar alguna función matemática que se ajuste a los valores obtenidos.\n",
    "\n",
    "> **Observa** que esto nos permite estimar el coste para una talla que no hayamos medido de forma experimental.\n",
    "\n",
    "Para obtener una función matemática que se ajuste con el menor error posible a nuestros datos, es posible usar la función **curve_fit** disponible en el módulo **scypy.optimize**. En el tutorial `introduccion_ajuste_curvas.ipynb`, disponible en PoliformaT, puedes encontrar una explicación de cómo hacerlo."
   ]
  },
  {
   "cell_type": "markdown",
   "metadata": {},
   "source": [
    "### 5.1. Definición de las funciones de ajuste\n",
    "\n",
    "Lo primero que debemos hacer es definir las funciones Python que implementen funciones matemáticas determinadas. Estas funciones deben recibir el valor (o valores) de *x*, así como los coeficientes de la función matemática, y deben devolver el valor (o valores) de *y* obtenidos con *f(x)* para los coeficientes dados.\n",
    "\n",
    "A continuación puedes ver la definición de 3 funciones Python que implementan una función (matemática) lineal, otra cuadrática y otra de tipo $n \\log n$. Observa que cada función Python recibe el valor (o valores) de $x$ y los parámetros propios la función matemática que representa.\n",
    "\n",
    "> **Nota:** es importante que el parámetro $x$ vaya siempre en primer lugar."
   ]
  },
  {
   "cell_type": "code",
   "execution_count": 9,
   "metadata": {},
   "outputs": [],
   "source": [
    "def linear(x, a, b):\n",
    "     return (a * x) + b\n",
    "\n",
    "def quadratic(x, a, b, c):\n",
    "     return a * x**2 + b * x + c\n",
    "    \n",
    "def nlogn(x, a, b):\n",
    "     return a * x * np.log(x) + b"
   ]
  },
  {
   "cell_type": "markdown",
   "metadata": {},
   "source": [
    "### 5.2. Ajuste mediante `curve_fit`\n",
    "\n",
    "A modo de ejemplo, vamos a definir una serie de valores `y` que sigan aproximadamente (con cierto ruido) la función $x^2 + 3x - 5$ y vamos a plotearlos. "
   ]
  },
  {
   "cell_type": "code",
   "execution_count": 10,
   "metadata": {},
   "outputs": [
    {
     "data": {
      "text/plain": [
       "<matplotlib.collections.PathCollection at 0x250d4c702e0>"
      ]
     },
     "execution_count": 10,
     "metadata": {},
     "output_type": "execute_result"
    },
    {
     "data": {
      "image/png": "[encoded data removed]",
      "text/plain": [
       "<Figure size 432x288 with 1 Axes>"
      ]
     },
     "metadata": {
      "needs_background": "light"
     },
     "output_type": "display_data"
    }
   ],
   "source": [
    "# Genera la lista x = [0.0, 1.0, 2.0, ..., 20.0]\n",
    "x = [float(i) for i in range(21)] \n",
    "\n",
    "# A partir de la lista anterior, genera una lista con y = x^2 + 3x -5 + un valor \n",
    "# aleatorio entre -20 y 20\n",
    "y = [quadratic(xx, 1, 3, -5) + random.uniform(-20, 20) for xx in x] \n",
    "\n",
    "plt.scatter(x, y)"
   ]
  },
  {
   "cell_type": "markdown",
   "metadata": {},
   "source": [
    "A continuación, vamos a buscar la función cuadrática que mejor se ajuste a estos valores"
   ]
  },
  {
   "cell_type": "code",
   "execution_count": 11,
   "metadata": {},
   "outputs": [
    {
     "name": "stdout",
     "output_type": "stream",
     "text": [
      "Parámetros de la función de ajuste: [ 1.07175731  1.99521126 -5.89189827]\n"
     ]
    },
    {
     "data": {
      "image/png": "[encoded data removed]",
      "text/plain": [
       "<Figure size 432x288 with 1 Axes>"
      ]
     },
     "metadata": {
      "needs_background": "light"
     },
     "output_type": "display_data"
    }
   ],
   "source": [
    "import scipy.optimize as opt\n",
    "\n",
    "# Obtenemos los parámetros de la función cuadrática que mejor se ajuste a los puntos x,y\n",
    "params, cov = opt.curve_fit(quadratic, x, y)\n",
    "\n",
    "# Mostramos los parámetros de la función de ajuste (en nuestro caso coeficientes A,B,C de la función Y = AX^2 + BX + C)\n",
    "print('Parámetros de la función de ajuste:', params)\n",
    "\n",
    "# Calculamos los valores de y ajustados a la función definida por 'params'\n",
    "yfit = quadratic(np.array(x), *params)\n",
    "\n",
    "# Ploteamos los valores originales y los ajustados\n",
    "plt.scatter(x, y)\n",
    "plt.plot(x, yfit)\n",
    "plt.show()"
   ]
  },
  {
   "cell_type": "markdown",
   "metadata": {},
   "source": [
    "- **Observa** los parámetros de la función obtenida y compáralos con la función original que usamos para generar los datos ($X^2 + 3X -5$)\n",
    "- **Prueba** generar los datos con menos ruido (p. ej. valor aleatorio entre [-10,10] en lugar de [-20,20]), ajusta de nuevo los datos y observa los nuevos parámetros de la función de ajuste. ¿Se parece ahora más a la usada para generar los datos?"
   ]
  },
  {
   "cell_type": "markdown",
   "metadata": {},
   "source": [
    "### 5.3. Función `plot_and_fit`\n",
    "\n",
    "A continuación se proporciona el código de la función `plot_and_fit` que usaremos en los siguientes experimentos. Esta función recibe 3 argumentos:\n",
    "- La lista de tallas `xdata`.\n",
    "- El diccionario `ydata` que asocia a cada cadena una lista de valores medidos, uno para cada una de las tallas del vector `xdata`. Este diccionario es el que devuelve la función `measure_algorithms`.\n",
    "- Otro diccionario `fit_functions` con exactamente las mismas claves que el diccionario `ydata` pero que tiene como valores funciones de ajuste como las descritas arriba (ej: `linear`, `quadratic`,...).\n",
    "\n",
    "La función `plot_and_fit` que mostramos a continuación combina la funcionalidad del ajuste de curvas con el de dibujar las gráficas con `plt.plot`. Aunque es posible separar el ajuste de curvas de la visualización de las mismas, hemos combiando ambas funcionalidades para simplificar:"
   ]
  },
  {
   "cell_type": "code",
   "execution_count": 12,
   "metadata": {},
   "outputs": [],
   "source": [
    "import scipy.optimize as opt\n",
    "\n",
    "def plot_and_fit(xdata, ydata, fit_functions, points=100):\n",
    "    markers = itertools.cycle(\"o.*+,\")\n",
    "    linestyles = itertools.cycle(('-','--','-.',':'))\n",
    "    xdata = [float(x) for x in xdata]\n",
    "    for name, y in ydata.items():\n",
    "        plt.plot(xdata, y, marker=next(markers), linestyle='', label=name)\n",
    "        ff = fit_functions[name]\n",
    "        params, _ = opt.curve_fit(ff, xdata, y)\n",
    "        xfit = np.array(xdata)\n",
    "        xfit = np.linspace(xfit.min(),xfit.max(),points)\n",
    "        yfit = ff(xfit, *params)\n",
    "        print(params)\n",
    "        plt.plot(xfit, yfit, linestyle=next(linestyles))\n",
    "    plt.legend()\n",
    "    plt.show()"
   ]
  },
  {
   "cell_type": "markdown",
   "metadata": {},
   "source": [
    "### Test\n",
    "Para comprobar el correcto funcionamiento, prueba visualizar con la función anterior los siguientes datos:"
   ]
  },
  {
   "cell_type": "code",
   "execution_count": 13,
   "metadata": {},
   "outputs": [
    {
     "name": "stdout",
     "output_type": "stream",
     "text": [
      "[ 2.0969697  -0.23333333]\n",
      "[ 0.95454545  0.43939394 -0.66666667]\n"
     ]
    },
    {
     "data": {
      "image/png": "[encoded data removed]",
      "text/plain": [
       "<Figure size 432x288 with 1 Axes>"
      ]
     },
     "metadata": {
      "needs_background": "light"
     },
     "output_type": "display_data"
    }
   ],
   "source": [
    "xdata_test = [1,2,3,4,5,6,7,8,9,10]\n",
    "ydata_test = { 'Alg1:mejor' : [2,4,6,8,10.5,12,15,16.5,17,22],\n",
    "               'Alg1:peor'  : [1,4,9,16,26,36,49,62,85,97] }\n",
    "fit_functions = { 'Alg1:mejor' : linear,\n",
    "                  'Alg1:peor' : quadratic }\n",
    "plot_and_fit(xdata_test, ydata_test, fit_functions)"
   ]
  },
  {
   "cell_type": "markdown",
   "metadata": {},
   "source": [
    "### 5.4. Encontrar funciones que se ajusten a las mediciones realizadas en la actividad 4\n",
    "\n",
    "A continuación, invoca adecuadamente a la función `plot_and_fit` para ajustar los datos obtenidos en el experimento de la actividad 4 a una función lineal y cuadrática respectivamente. Visualiza tanto los valores medidos como las funciones ajustadas."
   ]
  },
  {
   "cell_type": "code",
   "execution_count": 14,
   "metadata": {},
   "outputs": [
    {
     "name": "stdout",
     "output_type": "stream",
     "text": [
      "[1.80525864e-10 4.33867576e-07 1.81749887e-03]\n",
      "[1.93552319e-07 9.66236485e-04]\n"
     ]
    },
    {
     "data": {
      "image/png": "[encoded data removed]",
      "text/plain": [
       "<Figure size 432x288 with 1 Axes>"
      ]
     },
     "metadata": {
      "needs_background": "light"
     },
     "output_type": "display_data"
    }
   ],
   "source": [
    "fit_func = {'empty_front:increasing' : quadratic,\n",
    "            'empty_ending:increasing' : linear}\n",
    "\n",
    "tallas = range(5000,50001,5000)\n",
    "plot_and_fit(tallas,m,fit_func)\n",
    "\n",
    "# COMPLETAR\n"
   ]
  },
  {
   "cell_type": "markdown",
   "metadata": {},
   "source": [
    "<a id='act6'></a>\n",
    "##  Actividad 6: medida y visualización de métodos directos de ordenación\n",
    "\n",
    "Esta actividad es bastante sencilla puesto que se trata de repetir lo que ya hemos realizado en los puntos anteriores y solo cambia el tipo de algoritmo a medir. \n",
    "\n",
    "En primer lugar, completa el código siguiente para **medir** los tiempos de cómputo del algoritmo `insertionSort` con las tres instancias propuestas y **plotear** dichos tiempos (sin ajustar de momento mediante ninguna curva)."
   ]
  },
  {
   "cell_type": "code",
   "execution_count": 15,
   "metadata": {},
   "outputs": [
    {
     "data": {
      "image/png": "[encoded data removed]",
      "text/plain": [
       "<Figure size 432x288 with 1 Axes>"
      ]
     },
     "metadata": {
      "needs_background": "light"
     },
     "output_type": "display_data"
    }
   ],
   "source": [
    "# Diccionario con nombre_algoritmo : funcion_que_lo_implementa\n",
    "insort_algorithm =  {'insertionSort' : alg.insertionSort }\n",
    "\n",
    "# Diccionario con los tipos de generación de las instancias a medir\n",
    "insort_gen_instances = { 'increasing' : generate_increasing_vector,\n",
    "                         'decreasing' : generate_decreasing_vector,\n",
    "                         'random'     : generate_random_vector }\n",
    "\n",
    "# Lista con las tallas a medir\n",
    "insort_sizes = list(range(500,5000+1,500))\n",
    "\n",
    "med = measure_algorithms(insort_algorithm,insort_gen_instances,insort_sizes)\n",
    "\n",
    "plot_data(insort_sizes,med)\n",
    "\n",
    "# COMPLETAR\n"
   ]
  },
  {
   "cell_type": "markdown",
   "metadata": {},
   "source": [
    "Fíjate cómo crece el tiempo de cada instancia en la gráfica anterior y ajusta cada una de ellas con la función adecuada. Para ello, completa el siguiente diccionario y úsalo en la llamada a la función `plot_and_fit` para realizar el ajuste de curvas de los datos que acabas de obtener con las funciones de coste asintótico más adecuadas y su posterior visualización:"
   ]
  },
  {
   "cell_type": "code",
   "execution_count": 16,
   "metadata": {},
   "outputs": [
    {
     "name": "stdout",
     "output_type": "stream",
     "text": [
      "[2.92383549e-07 9.23266909e-06]\n",
      "[ 2.15553974e-07 -1.74004422e-06 -2.90364615e-02]\n",
      "[ 6.83173735e-05 -4.33791947e-01]\n"
     ]
    },
    {
     "data": {
      "image/png": "[encoded data removed]",
      "text/plain": [
       "<Figure size 432x288 with 1 Axes>"
      ]
     },
     "metadata": {
      "needs_background": "light"
     },
     "output_type": "display_data"
    }
   ],
   "source": [
    "# COMPLETAR\n",
    "# Crear diccionario\n",
    "insort_fit_func = {'insertionSort:increasing': linear, 'insertionSort:decreasing': quadratic, 'insertionSort:random':nlogn}\n",
    "\n",
    "\n",
    "plot_and_fit(insort_sizes,med,insort_fit_func)\n",
    "\n",
    "\n",
    "# Plotear tiempos medidos y funciones de ajuste"
   ]
  },
  {
   "cell_type": "markdown",
   "metadata": {},
   "source": [
    "<a id='act7'></a>\n",
    "##  Actividad 7: medida y visualización de `mergeSort`\n",
    "\n",
    "Una vez comparado el coste de ordenar distintos tipos de instancia con Inserción Directa, vamos a realizar un par de experimentos más:\n",
    "- Comparar Inserción Directa con Mergesort para tallas pequeñas.\n",
    "- Probar Mergesort para tallas un poco más altas (no las probamos con Inserción directa porque el tiempo subiría mucho).\n",
    "\n",
    "Adicionalmente, también vamos a comparar con la implementación *nativa* de Python (que utiliza el algoritmo [Tim Sort](https://en.wikipedia.org/wiki/Timsort) relativamente *emparentado* con Mergesort y que, al estar implementado internamente en el intérprete de Python resulta **mucho más rápido** que los otros)."
   ]
  },
  {
   "cell_type": "code",
   "execution_count": 17,
   "metadata": {},
   "outputs": [
    {
     "data": {
      "image/png": "[encoded data removed]",
      "text/plain": [
       "<Figure size 432x288 with 1 Axes>"
      ]
     },
     "metadata": {
      "needs_background": "light"
     },
     "output_type": "display_data"
    }
   ],
   "source": [
    "# Diccionario con nombre_algoritmo : funcion_que_lo_implementa\n",
    "sort_algorithm = { 'insertionSort' : alg.insertionSort,\n",
    "                   'mergeSort'     : alg.mergeSort,\n",
    "                   'nativeSort'    : alg.nativeSort }\n",
    "\n",
    "# Diccionario con los tipos de generación de las instancias a medir\n",
    "sort_gen_instances = { 'random'     : generate_random_vector }\n",
    "\n",
    "\n",
    "# COMPLETAR: mide los tiempos de cómputo para tallas entre 500 y 5000 con incrementos\n",
    "# de 500 en 500 y plotea los resultados (sin ajustar mediante ninguna curva)\n",
    "size = range(500,5001, 500)\n",
    "med = measure_algorithms(sort_algorithm,sort_gen_instances,size)\n",
    "plot_data(size,med)"
   ]
  },
  {
   "cell_type": "markdown",
   "metadata": {},
   "source": [
    "En la gráfica que acabas de obtener apenas se puede distinguir el coste de `mergeSort` y el del sort nativo, así que vamos a realizar otro experimento sin utilizar `insertionSort` para poder aumentar la talla sin que el coste cuadrático de `insertionSort` lo vuelva prohibitivo:"
   ]
  },
  {
   "cell_type": "code",
   "execution_count": 18,
   "metadata": {},
   "outputs": [
    {
     "data": {
      "image/png": "[encoded data removed]",
      "text/plain": [
       "<Figure size 432x288 with 1 Axes>"
      ]
     },
     "metadata": {
      "needs_background": "light"
     },
     "output_type": "display_data"
    }
   ],
   "source": [
    "# Diccionario con nombre_algoritmo : funcion_que_lo_implementa\n",
    "sort_algorithm = { 'mergeSort'     : alg.mergeSort,\n",
    "                   'nativeSort'    : alg.nativeSort }\n",
    "\n",
    "# Diccionario con los tipos de generación de las instancias a medir\n",
    "sort_gen_instances = { 'random'     : generate_random_vector }\n",
    "\n",
    "# COMPLETAR: mide los tiempos de cómputo para tallas entre 25000 y 250000 con incrementos\n",
    "# de 25000 en 25000 y plotea los resultados ajustándolos a funciones logarítmicas\n",
    "size = range(500,5001, 500)\n",
    "med = measure_algorithms(sort_algorithm,sort_gen_instances,size)\n",
    "plot_data(size,med)"
   ]
  }
 ],
 "metadata": {
  "interpreter": {
   "hash": "8b27a32eeba3582c32bed3e5c68cc1f7220aeefa494415e437901fea2f8e464f"
  },
  "kernelspec": {
   "display_name": "Python 3.9.7 ('base')",
   "language": "python",
   "name": "python3"
  },
  "language_info": {
   "codemirror_mode": {
    "name": "ipython",
    "version": 3
   },
   "file_extension": ".py",
   "mimetype": "text/x-python",
   "name": "python",
   "nbconvert_exporter": "python",
   "pygments_lexer": "ipython3",
   "version": "3.9.7"
  }
 },
 "nbformat": 4,
 "nbformat_minor": 2
}
