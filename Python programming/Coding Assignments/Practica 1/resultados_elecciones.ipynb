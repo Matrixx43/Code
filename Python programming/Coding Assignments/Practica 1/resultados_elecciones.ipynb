{
 "cells": [
  {
   "cell_type": "markdown",
   "metadata": {},
   "source": [
    "<center>\n",
    "    <h1>Práctica 1 - Parte II. Análisis de datos tabulados: reparto de escaños al Congreso de los Diputados</h1>\n",
    "    <h3>Programación - Grado en Ciencia de Datos</h3>\n",
    "    <h3>Universitat Politècnica de València</h3>\n",
    "</center>"
   ]
  },
  {
   "cell_type": "markdown",
   "metadata": {},
   "source": [
    "**Práctica realizada por:**"
   ]
  },
  {
   "cell_type": "markdown",
   "metadata": {},
   "source": [
    "<a id='indice'></a>\n",
    "## Índice\n",
    "1. ### [Objetivos](#objetivos)\n",
    "1. ### [Legislación electoral española: circunscripciones y ley D'Hont](#legislacion_electoral)\n",
    "1. ### [Funciones para reparto de escaños según la ley D'Hont](#funciones_dhont)\n",
    "1. ### [Función para mostrar gráficas de resultados electorales](#funcion_resultados)\n",
    "1. ### [Actividad 1: Cargar datos en un dataframe](#act1)\n",
    "1. ### [Actividad 2: Porcentaje de participación por circunscripción](#act2)\n",
    "1. ### [Actividad 3: Número de escaños por circunscripción ](#act3)\n",
    "1. ### [Actividad 4: Número de escaños por comunidad](#act4)\n",
    "1. ### [Actividad 5: Resultados por circunscripción](#act5)\n",
    "1. ### [Actividad 6: Resultados para el congreso de los diputados](#act6)\n",
    "1. ### [Actividad 7: Coste en votos de cada escaño](#act7)"
   ]
  },
  {
   "cell_type": "markdown",
   "metadata": {},
   "source": [
    "<a id='objetivos'></a>\n",
    "## Objetivos:\n",
    "- Aprender a analizar y visualizar datos tabulados (estructurados en filas y columnas) mediante la realización de operaciones básicas (ordenación, selección, agrupamiento, agregación, ...)\n",
    "- Aprender a usar los tipos de datos **DataFrame** y **Series** de la biblioteca pandas.\n",
    "- Usar la librería **matplotlib.pyplot** para representar gráficamente los datos del estudio."
   ]
  },
  {
   "cell_type": "markdown",
   "metadata": {},
   "source": [
    "<a id='legislacion_electoral'></a>\n",
    "## Legislación electoral española: división en circunscripciones y asignación de diputados mediante la Ley D'Hont\n",
    "\n",
    "El congreso se compone de 350 diputados, que representan a 52 **circunscripciones** (las 50 provincias de España más las ciudades autónomas de Ceuta y Melilla). Cada circunscripción aporta un número de diputados. Concretamente, Ceuta y Melilla aportan un diputado cada una, y el resto de provincias lo hace en proporción a su población, con un mínimo de dos diputados. Por ejemplo, Madrid aporta 31 diputados, Valencia 16 o Soria 2.\n",
    "\n",
    "En España se utiliza la **ley D'Hont** para asignar los diputados (o escaños) que le corresponden a cada partido en función de los votos obtenidos. Para ello, en primer lugar se excluye de cada circunscripción a las candidaturas que no hayan obtenido al menos un 3% de los votos válidos (votos a candidaturas + votos en blanco). A continuación, el reparto se hace siguiendo el siguiente algoritmo:\n",
    "\n",
    "Se crea una tabla con tantas filas como partidos con opción a escaño y tantas columnas como escaños a repartir. En la primera columna se almacena el número de votos obtenido por cada partido, en la segunda el número de votos dividido entre dos, en la tercera el número de votos entre tres, y así sucesivamente. A continuación se obtienen los n valores máximos de esta tabla, siendo n el número de escaños a repartir. Por cada uno de estos máximos, se asigna un escaño al partido correspondiente. En la siguiente figura se muestra un ejemplo, en el que el partido A obtendría 2 diputados, el B otros 2 y el C 1.\n",
    "\n",
    "![Figura reparto escaños](reparto_escanos.gif)\n",
    "\n",
    "[Volver al índice](#indice)"
   ]
  },
  {
   "cell_type": "markdown",
   "metadata": {},
   "source": [
    "<a id='funciones_dhont'></a>\n",
    "## Funciones para realizar el reparto de escaños según la ley D'Hont"
   ]
  },
  {
   "cell_type": "code",
   "execution_count": null,
   "metadata": {},
   "outputs": [],
   "source": [
    "import numpy as np\n",
    "import matplotlib.pyplot as plt\n",
    "\n",
    "def reparto_escaños(votos_validos, tot_escaños, votos_partidos, porcentaje_min=3):\n",
    "    \"\"\"\n",
    "    Hace el reparto de escaños aplicando la Ley D'Hont.\n",
    "    Parámetros de entrada:\n",
    "       - votos_validos: número de votos válidos (votos a candidatura + votos en blanco)\n",
    "       - tot_escaños: número de escaños a repartir\n",
    "       - votos_partidos: diccionario del tipo {'Nombre partido':votos obtenidos}\n",
    "       - porcentaje_min: porcentaje mínimo de votos para que una candidatura tenga opción a escaño\n",
    "    Devuelve:\n",
    "       - diccionario del tipo {'Nombre partido':diputados asignados}\n",
    "    \"\"\"\n",
    "    # En primer lugar determinar las candidaturas que han superado un procentaje mínimo de votos:\n",
    "    candidatos = []\n",
    "    for partido,votos in votos_partidos.items():\n",
    "        if votos * 100 / votos_validos >= porcentaje_min:\n",
    "            candidatos.append(partido)\n",
    "\n",
    "    # Creamos una lista auxiliar en la que pondremos tuplas (votos/i, partido) con i: 1..tot_escaños\n",
    "    aux = []\n",
    "    for partido in candidatos:\n",
    "        for i in range(tot_escaños):\n",
    "            aux.append((votos_partidos[partido]/(i+1),partido))\n",
    "\n",
    "    # Ordenamos la lista aux de mayor a menor:\n",
    "    aux.sort(reverse=True)\n",
    "\n",
    "    # Tomamos las 'tot_escaños' primeras tuplas de aux y creamos el diccionario 'resultado'\n",
    "    resultado = {}\n",
    "    for score,partido in aux[:tot_escaños]:\n",
    "        if partido in resultado:\n",
    "            resultado[partido] += 1\n",
    "        else:\n",
    "            resultado[partido] = 1\n",
    "\n",
    "    return resultado                 "
   ]
  },
  {
   "cell_type": "markdown",
   "metadata": {},
   "source": [
    "<a id='funcion_resultados'></a>\n",
    "## Función para mostrar los diputados obtenidos por cada candidatura"
   ]
  },
  {
   "cell_type": "code",
   "execution_count": null,
   "metadata": {},
   "outputs": [],
   "source": [
    "import matplotlib.pyplot as plt\n",
    "\n",
    "def get_color(partido):\n",
    "    dic_colores = {'PSOE':'red', 'PP':'blue', \"Cs\":'darkorange', 'UP':'darkmagenta', 'ERC':'orange', 'VOX':'limegreen', 'PNV':'green'}\n",
    "    for clave in dic_colores:\n",
    "        if partido in clave or clave in partido:\n",
    "            return dic_colores[clave]\n",
    "    return 'gray'\n",
    "    \n",
    "def plot_escaños(dic_partidos_escaños): \n",
    "    \"\"\"\n",
    "    Muestra los diputados obtenidos por cada candidatura.\n",
    "    Parámetros de entrada:\n",
    "       - dic_partidos_escaños: diccionario del tipo {'Nombre partido':diputados asignados} \n",
    "                               (esto es, valor devuelto por la función reparto_escanyos)\n",
    "    \"\"\"\n",
    "    # Guardar en tres listas separadas los nombres de partido, los diputados asignados\n",
    "    # y los colores corporativos, todo ello ordenado por número de diputados\n",
    "    partidos = sorted(dic_partidos_escaños, key=dic_partidos_escaños.get, reverse=True)\n",
    "    escaños = sorted(dic_partidos_escaños.values(), reverse=True)\n",
    "    colores = []\n",
    "    for partido in partidos:\n",
    "        colores.append(get_color(partido))\n",
    "    \n",
    "    plt.figure(figsize=(12, 3))\n",
    "    \n",
    "    # MOSTRAR GRAFICA DE TARTA (subfigura 1)\n",
    "    \n",
    "    # Eliminar labels de partidos con poca representación ya que no caben todas en el gráfico de tarta\n",
    "    labels = partidos[:]\n",
    "    tot_escaños = sum(escaños)\n",
    "    for i in range(len(labels)):\n",
    "        if escaños[i]/tot_escaños < 0.02: # Borrar etiqueta de partidos con menos de un 2% de escaños\n",
    "            labels[i] = ''\n",
    "            \n",
    "    plt.subplot(1, 2, 1)           \n",
    "    plt.pie(escaños, labels=labels, colors=colores, autopct=lambda val: int(np.round(val/100.*sum(escaños), 0)) if val>5 else \"\")\n",
    "        \n",
    "    # Dibujar circulo en el centro para hacer un donut\n",
    "    centre_circle = plt.Circle((0,0),0.45,color='black', fc='white')\n",
    "    fig = plt.gcf()\n",
    "    fig.gca().add_artist(centre_circle)\n",
    "\n",
    "    # Establecer aspect ratio 'equal' para que tenga forma de círculo y no de ovalo\n",
    "    plt.axis('equal')\n",
    "    \n",
    "    # MOSTRAR GRAFICA DE BARRAS (subfigura 2)\n",
    "    plt.subplot(1, 2, 2)\n",
    "    for i, v in enumerate(escaños):\n",
    "        plt.text(i-0.1, v + 0.1, str(v))\n",
    "        \n",
    "    plt.bar(partidos,escaños, alpha=1, color=colores)\n",
    "    plt.xticks(rotation=25, ha='right')\n",
    "    plt.yticks(range(1, max(escaños)+2))\n",
    "    plt.gca().set_yticklabels([])\n",
    "    \n",
    "    plt.subplots_adjust( wspace=1)\n",
    "    plt.show(); \n"
   ]
  },
  {
   "cell_type": "markdown",
   "metadata": {},
   "source": [
    "<a id='act1'></a>\n",
    "## ACTIVIDAD 1: Cargar datos en un DataFrame\n",
    "\n",
    "Almacena el fichero \"resultados_elecciones_2019.csv\" en un dataframe de pandas y muestra las 5 primeras filas. El fichero utiliza como separador de campos el punto y coma, por lo que tendrás que especificar la opción sep=';' para leer correctamente el fichero.\n",
    "\n",
    "*Fuente del archivo de datos: [http://www.infoelectoral.mir.es/infoelectoral/min/areaDescarga.html?method=inicio](http://www.infoelectoral.mir.es/infoelectoral/min/areaDescarga.html?method=inicio)*\n",
    "\n",
    "[Volver al índice](#indice)"
   ]
  },
  {
   "cell_type": "code",
   "execution_count": null,
   "metadata": {
    "collapsed": true
   },
   "outputs": [],
   "source": [
    "import pandas as pd\n",
    "\n",
    "df = pd.read_csv('resultados_elecciones_2019.csv', delimiter=';')\n",
    "\n",
    "df.head()"
   ]
  },
  {
   "cell_type": "markdown",
   "metadata": {},
   "source": [
    "<a id='act2'></a>\n",
    "## ACTIVIDAD 2: Porcentaje de participación por circunscripción (provincia)\n",
    "\n",
    "**Conceptos a trabajar:**\n",
    "- Añadir nuevas columnas a un dataframe\n",
    "- Ordenar un dataframe\n",
    "- Mostrar gráfico de barras con las etiquetas de una columna y los datos de otra\n",
    "\n",
    "Consulta cómo hacer estas operaciones en el tutorial `pandas_dataframe.ipynb` disponible en PoliformaT sección Tutoriales.\n",
    "\n",
    "**Tareas a realizar:**\n",
    "1. A partir de las columnas 'Total censo electoral' y 'Total votantes', crea una nueva columna en el dataframe para almacenar el porcentaje de participación en cada circunscripción.\n",
    "1. Ordena las filas del dataframe según el valor de esta nueva columna\n",
    "1. Crea un gráfico de barras horizontal con la función plt.barh, en la que el primer parámetro deberá ser los valores de la columna 'Nombre de Provincia' y el segundo los valores de la nueva columna con los porcentajes de participación.\n",
    "1. Personaliza la figura:\n",
    "    - Usa la instrucción plt.figure(figsize=(10,25)) para adecuar el tamaño\n",
    "    - Usa la instrucción plt.grid(axis='x') para mostrar las líneas verticales de una rejilla\n",
    "    - Usa la instrucción plt.title para poner un título a la gráfica\n",
    "    \n",
    "[Volver al índice](#indice)    "
   ]
  },
  {
   "cell_type": "code",
   "execution_count": null,
   "metadata": {},
   "outputs": [],
   "source": [
    "# Crea nueva columna\n",
    "df['Porcentaje participacion'] = 100 * df['Total votantes'] / df['Total censo electoral']\n",
    "\n",
    "# Ordena el dataframe por Porcentaje participacion\n",
    "df = df.sort_values(by='Porcentaje participacion', ascending=False)"
   ]
  },
  {
   "cell_type": "code",
   "execution_count": null,
   "metadata": {},
   "outputs": [],
   "source": [
    "import matplotlib.pyplot as plt\n",
    "\n",
    "elec = df.groupby(\"Nombre de Provincia\")[\"Porcentaje participacion\"].mean().sort_values()\n",
    "\n",
    "\n",
    "# Graficar ds con plt.barh.\n",
    "# El orden de las instrucciones importa. La primera es el tamano siempre\n",
    "plt.figure(figsize=(10,25))\n",
    "plt.title(\"Porcentaje participacion por provincias\")\n",
    "plt.barh(elec.index, elec.values)\n",
    "plt.grid(axis='x')"
   ]
  },
  {
   "cell_type": "markdown",
   "metadata": {},
   "source": [
    "<a id='act3'></a>\n",
    "## ACTIVIDAD 3: Número de escaños por circunscripción (provincia)\n",
    "\n",
    "**Conceptos a trabajar:**\n",
    "- Reforzar los mismos conceptos trabajados en la actividad 2\n",
    "\n",
    "**Tareas a realizar:**\n",
    "\n",
    "- Muestra una gráfica similar a la de la actividad 2, en este caso con el número de escaños a repartir en cada circunscripción. Ordena los datos en función de dicho número de escaños.\n",
    "\n",
    "[Volver al índice](#indice)"
   ]
  },
  {
   "cell_type": "code",
   "execution_count": null,
   "metadata": {},
   "outputs": [],
   "source": []
  },
  {
   "cell_type": "code",
   "execution_count": null,
   "metadata": {
    "collapsed": true
   },
   "outputs": [],
   "source": [
    "import matplotlib.pyplot as plt\n",
    "\n",
    "elec = df.groupby(\"Nombre de Provincia\")[\"Escaños\"].mean().sort_values()\n",
    "\n",
    "# Graficar ds con plt.barh\n",
    "# El orden de las instrucciones importa. La primera es el tamano siempre\n",
    "plt.figure(figsize=(10,25))\n",
    "plt.title(\"Escaños por provincia\")\n",
    "plt.barh(elec.index, elec.values)\n",
    "plt.grid(axis='x')"
   ]
  },
  {
   "cell_type": "markdown",
   "metadata": {},
   "source": [
    "<a id='act4'></a>\n",
    "## ACTIVIDAD 4: Número de escaños por comunidad\n",
    "\n",
    "**Conceptos a trabajar:**\n",
    "- Agrupar datos\n",
    "\n",
    "Consulta cómo hacer estas operaciones en el tutorial `pandas_dataframe.ipynb` mencionado anteriormente.\n",
    "\n",
    "**Tareas a realizar:**\n",
    "- Muestra una gráfica similar a la de la actividad 3, pero mostrando en este caso el número total de escaños por Comunidad Autónoma. Para ello debrás utilizar la función *groupby* para agrupar filas en función de la Comunidad, junto con la función *sum* para obtener la suma de escaños en cada comunidad.\n",
    "\n",
    "[Volver al índice](#indice)"
   ]
  },
  {
   "cell_type": "code",
   "execution_count": null,
   "metadata": {
    "collapsed": true
   },
   "outputs": [],
   "source": [
    "import matplotlib.pyplot as plt\n",
    "\n",
    "df_agrupado = df.groupby(\"Nombre de Comunidad\").sum()\n",
    "\n",
    "elec = df.groupby(\"Nombre de Comunidad\")[\"Escaños\"].sum().sort_values()\n",
    "\n",
    "# Graficar ds con plt.barh\n",
    "# El orden de las instrucciones importa. La primera es el tamano siempre\n",
    "plt.figure(figsize=(10,25))\n",
    "plt.title(\"Escaños por comunidad\")\n",
    "plt.barh(elec.index, elec.values)\n",
    "plt.grid(axis='x')"
   ]
  },
  {
   "cell_type": "markdown",
   "metadata": {},
   "source": [
    "<a id='act5'></a>\n",
    "## ACTIVIDAD 5: Resultados por circunscripción\n",
    "\n",
    "**Conceptos a trabajar:**\n",
    "- Iterar sobre las filas de un dataframe\n",
    "\n",
    "**Tareas a realizar:**\n",
    "\n",
    "Muestra, para cada provincia (circunscripción) una gráfica con el reparto de escaños en dicha provincia. Observa que cada fila del dataframe corresponde a una provincia distinta, por lo que será necesario iterar sobre cada fila para realizar esta operación. Esto puede hacerse con el bucle:\n",
    "\n",
    "`for index, row in df.iterrows():`\n",
    "\n",
    "donde `row` será un objeto de tipo `Series` con el contenido de cada fila.\n",
    "\n",
    "Para cada fila:\n",
    "1. Obtén el nombre de la provincia, los votos válidos y el número de escaños\n",
    "1. Crea un diccionario donde las claves sean los nombres de los partidos y los valores los votos obtenidos\n",
    "1. Obtén la asignación de escaños invocando adecuadamente al método reparto_escaños\n",
    "1. Muestra un texto con el nombre de la provincia y el total de escaños a repartir y a continuación muestra la gráfica con los resultados invocando adecuadamente al método plot_escaños\n",
    "\n",
    "[Comprueba que tus resultados coinciden con los publicados en este enlace](http://resultados-elecciones.rtve.es/generales/2019/congreso/)\n",
    "\n",
    "[Volver al índice](#indice)"
   ]
  },
  {
   "cell_type": "code",
   "execution_count": null,
   "metadata": {
    "collapsed": true
   },
   "outputs": [],
   "source": [
    "print(\"NOTA: Los resultados salen ordenados por orden de participacion de mayor a menor\", end='\\n\\n')\n",
    "\n",
    "for index, row in df.iterrows():\n",
    "    nombre_provincia = row[2]\n",
    "    votos_validos = row[8]\n",
    "    num_escanos = row[3]\n",
    "\n",
    "    # Crear un diccionario donde las claves son los nombres de partidos y los valores los votos obtenidos. Solo para la provincia actual\n",
    "    votos_partidos = {}\n",
    "    i = 12\n",
    "    for votos in row[12:]:\n",
    "        if votos > 0: # Si el partido tiene votos en esa provincia\n",
    "            # Conseguir el nombre del partido\n",
    "            partido = df.columns[i]\n",
    "            votos_partidos[partido] = votos\n",
    "        i += 1\n",
    "    \n",
    "    # Obten la asignacion de escanos\n",
    "    escanos = reparto_escaños(votos_validos, num_escanos, votos_partidos)\n",
    "\n",
    "    # Muestra un texto con el nombre de la provincia y el total de escaños a repartir\n",
    "    # A continuación muestra la gráfica con los resultados invocando adecuadamente al método plot_escaños\n",
    "    print(f\"Provincia: {nombre_provincia}   Escaños: {num_escanos}\")\n",
    "    plot_escaños(escanos)\n",
    "    \n",
    "\n",
    "\n",
    "    \n"
   ]
  },
  {
   "cell_type": "markdown",
   "metadata": {},
   "source": [
    "<a id='act6'></a>\n",
    "## ACTIVIDAD 6: Resultados para el congreso de los diputados\n",
    "\n",
    "Muestra una gráfica con el total de diputados obtenidos por cada partido al congreso de los diputados. Para ello deberás ir calculando los diputados que ha obtenido cada partido en cada circunscripción, tal y como has hecho en la actividad anterior, e ir acumulando (sumando) dicho número de diputados en otro diccionario. Finalmente, ejecuta la función plot_escaños pasándole el diccionario obtenido.\n",
    "\n",
    "[Volver al índice](#indice)"
   ]
  },
  {
   "cell_type": "code",
   "execution_count": null,
   "metadata": {
    "collapsed": true
   },
   "outputs": [],
   "source": [
    "# Diccionario de escanos totales\n",
    "escanos_congreso = {}\n",
    "\n",
    "# Calcula los escanos en cada provincia\n",
    "for index, row in df.iterrows():\n",
    "    nombre_provincia = row[2]\n",
    "    votos_validos = row[8]\n",
    "    num_escanos = row[3]\n",
    "\n",
    "    # Crear un diccionario donde las claves son los nombres de partidos y los valores los votos obtenidos. Solo para la provincia actual\n",
    "    votos_partidos = {}\n",
    "    i = 12\n",
    "    for votos in row[12:]:\n",
    "        if votos > 0: # Si el partido tiene votos en esa provincia\n",
    "            # Conseguir el nombre del partido\n",
    "            partido = df.columns[i]\n",
    "            votos_partidos[partido] = votos\n",
    "        i += 1\n",
    "    \n",
    "    # Obten la asignacion de escanos\n",
    "    dicc_escanos_provincia = reparto_escaños(votos_validos, num_escanos, votos_partidos)\n",
    "\n",
    "    # Asigna los escanos de la provincia al congreso\n",
    "    for partido, escanos_provincia in dicc_escanos_provincia.items():\n",
    "        # Coger la suma de diputados para ese partido ya existente\n",
    "        suma_diputados = escanos_congreso.get(partido)\n",
    "        # Si el partido ya tenia escanos:\n",
    "        if suma_diputados:\n",
    "            escanos_congreso[partido] = suma_diputados + escanos_provincia\n",
    "        else: # Si el partido no tenia escanos\n",
    "            escanos_congreso[partido] = escanos_provincia\n",
    "\n",
    "\n",
    "\n",
    "# Grafica los escanos totales\n",
    "plot_escaños(escanos_congreso)"
   ]
  },
  {
   "cell_type": "markdown",
   "metadata": {},
   "source": [
    "<a id='act7'></a>\n",
    "## ACTIVIDAD 7: Coste en votos de cada escaño\n",
    "\n",
    "**Conceptos a trabajar:**\n",
    "- Sumar columnas\n",
    "\n",
    "\n",
    "**Tareas a realizar:**\n",
    "\n",
    "En esta actividad vamos a mostrar cuántos votos le cuesta a cada partido obtener un escaño (votos obtenidos / escaños conseguidos). Para ello, realiza las siguientes tareas:\n",
    "\n",
    "\n",
    "1. A partir del diccionario con los resultados de la actividad anterior, crea otro diccionario que contenga, para cada partido, el total de votos obtenidos entre el número de escaños conseguidos.\n",
    "\n",
    "1. Muestra una gráfica de barras horizontal con los items de este nuevo diccionario. Dado que la función `plt.barh` trabaja con listas y no con diccionarios, deberás almacenar los valores del diccionario en listas separadas. Para ello puedes utilizar `list(d.keys())` y `list(d.values())` para obtener, respectivamente, las etiquetas y los valores, siendo `d` es el diccionario con los resultados.\n",
    "\n",
    "1. Añade a la gráfica un grid con líneas verticales y un título, tal y como has hecho en actividades anteriores.\n",
    "\n",
    "[Volver al índice](#indice)"
   ]
  },
  {
   "cell_type": "code",
   "execution_count": null,
   "metadata": {
    "collapsed": true
   },
   "outputs": [],
   "source": [
    "# Crear otro diccionario que contiene para cada partido el coste de sus escanos: total_votos / num_escanos\n",
    "coste_escanos = {}\n",
    "for partido, escanos in escanos_congreso.items():\n",
    "    # Conseguir el total de votos\n",
    "    ds = df.loc[:, partido]\n",
    "    total_votos = ds.sum()\n",
    "    # Anadir a coste_escanos el coste de los escanos\n",
    "    coste_escanos[partido] = total_votos / escanos\n",
    "\n",
    "# Separar en listas\n",
    "ds = pd.Series(coste_escanos).sort_values(ascending=True)\n",
    "#partidos = list(coste_escanos.keys())\n",
    "#coste = list(coste_escanos.values())\n",
    "\n",
    "# Grafica con plt.barh\n",
    "plt.figure(figsize=(10,10))\n",
    "plt.title(\"Coste de escaños por partido\")\n",
    "plt.barh(ds.index, ds.values)\n",
    "plt.grid(axis='x')\n",
    "\n"
   ]
  }
 ],
 "metadata": {
  "kernelspec": {
   "display_name": "Python 3",
   "language": "python",
   "name": "python3"
  },
  "language_info": {
   "codemirror_mode": {
    "name": "ipython",
    "version": 3
   },
   "file_extension": ".py",
   "mimetype": "text/x-python",
   "name": "python",
   "nbconvert_exporter": "python",
   "pygments_lexer": "ipython3",
   "version": "3.9.7"
  }
 },
 "nbformat": 4,
 "nbformat_minor": 2
}
