{
 "cells": [
  {
   "cell_type": "markdown",
   "metadata": {},
   "source": [
    "<center>\n",
    "    <h3>Programación - Grado en Ciencia de Datos</h3>\n",
    "    <h3>Universitat Politècnica de València</h3>\n",
    "    <h1>Práctica 1 - Parte I. Análisis de datos tabulados: delitos en la ciudad de Chicago</h1>\n",
    "</center>"
   ]
  },
  {
   "cell_type": "markdown",
   "metadata": {},
   "source": [
    "**Práctica realizada por:**"
   ]
  },
  {
   "cell_type": "markdown",
   "metadata": {},
   "source": [
    "<a id='indice'></a>\n",
    "## Índice\n",
    "1. ### [Objetivos](#objetivos)\n",
    "1. ### [Actividad 1: Cargar datos en un dataframe](#act1)\n",
    "1. ### [Actividad 2: Datos faltantes](#act2)\n",
    "1. ### [Actividad 3: Tipos de delito](#act3)\n",
    "1. ### [Actividad 4: Crear columnas Day, Month y Hour](#act4)\n",
    "1. ### [Actividad 5: Frecuencia de delitos en función del día, mes y hora](#act5)\n",
    "1. ### [Actividad 6: Localización geográfica de los delitos](#act6)"
   ]
  },
  {
   "cell_type": "markdown",
   "metadata": {},
   "source": [
    "<a id='objetivos'></a>\n",
    "## Objetivos:\n",
    "- Aprender a analizar y visualizar datos tabulados (estructurados en filas y columnas) mediante la realización de operaciones básicas (ordenación, selección, agrupamiento, agregación, ...)\n",
    "- Aprender a usar los tipos de datos **DataFrame** y **Series** de la biblioteca pandas.\n",
    "- Usar la librería **matplotlib.pyplot** para representar gráficamente los datos del estudio."
   ]
  },
  {
   "cell_type": "markdown",
   "metadata": {},
   "source": [
    "<a id='act1'></a>\n",
    "## ACTIVIDAD 1: Cargar datos en un DataFrame\n",
    "\n",
    "Almacena el fichero \"Crimes_2014.csv\" en un dataframe de pandas y muestra las 5 primeras filas. El fichero contiene como separador de campos la coma (separador por defecto de la función `read_csv`).\n",
    "\n",
    "[Volver al índice](#indice)"
   ]
  },
  {
   "cell_type": "code",
   "execution_count": null,
   "metadata": {
    "collapsed": true
   },
   "outputs": [],
   "source": [
    "import pandas as pd\n",
    "\n",
    "# Almacenar datos en un dataframe\n",
    "df = pd.read_csv('Crimes_2014.csv', delimiter=',')\n",
    "\n",
    "# Mostrar las 5 primeras lineas\n",
    "df.head(5)"
   ]
  },
  {
   "cell_type": "markdown",
   "metadata": {},
   "source": [
    "<a id='act2'></a>\n",
    "## ACTIVIDAD 2: Datos faltantes\n",
    "\n",
    "Muestra las filas del dataset en las que falte algún valor. A continuación, borra dichas filas del dataframe.\n",
    "\n",
    "> **Nota:** Puedes consultar el tutorial *Manejo de datos tabulados con pandas DataFrame* (fichero `pandas_dataframe.ipynb`) disponible en el apartado de *Tutoriales* de PoliformaT para ver cómo operar con datos faltantes.\n",
    "\n",
    "[Volver al índice](#indice)"
   ]
  },
  {
   "cell_type": "code",
   "execution_count": null,
   "metadata": {
    "collapsed": true
   },
   "outputs": [],
   "source": [
    "# Localizar y mostrar las filas (eje 'columns' horizontal) en las que algun valor (any) sea nulo (isnull)\n",
    "df.loc[df.isnull().any(axis='columns')]"
   ]
  },
  {
   "cell_type": "code",
   "execution_count": null,
   "metadata": {},
   "outputs": [],
   "source": [
    "# Borra las filas que tengan al menos un valor faltante\n",
    "df.dropna(axis='rows', how='any', inplace=True)"
   ]
  },
  {
   "cell_type": "markdown",
   "metadata": {},
   "source": [
    "<a id='act3'></a>\n",
    "## ACTIVIDAD 3: Tipos de delito\n",
    "\n",
    "1. Muestra los distintos tipo de delito registrados. Para ello, selecciona la columna 'Primary Type' y ejecuta la función `unique()` sobre esta selección para mostrar únicamente un elemento de cada tipo.\n",
    "1. Muestra un diagrama de barras horizontal con el número de delitos de cada tipo. Para ello:\n",
    "    1. Usa `value_counts` para contar cuántos delitos hay de cada tipo. Esta función devuelve un objeto de tipo `Series`, en el que el atributo `index` son las etiquetas de la serie (tipos de delito) y el atributo `values` los valores.\n",
    "    1. Ordena la serie anterior de manera ascendente.\n",
    "    1. Crea y muestra una gráfica de barras horizontal con la función `plt.barh`, en la que el primer parámetro deberá ser los tipos de delito y el segundo las cantidades.\n",
    "    1. Personaliza la figura:\n",
    "        - Usa la instrucción `plt.figure(figsize=(10,10))` para adecuar el tamaño.\n",
    "        - Usa la instrucción `plt.grid(axis='x')` para mostrar las líneas verticales de una rejilla.\n",
    "        - Usa la instrucción `plt.title` para poner un título a la gráfica.\n",
    "        \n",
    "Consulta el tutorial `pandas_dataframe.ipynb` mencionado anteriormente para ver cómo realizar las distintas operaciones.\n",
    "        \n",
    "[Volver al índice](#indice)"
   ]
  },
  {
   "cell_type": "code",
   "execution_count": null,
   "metadata": {
    "collapsed": true
   },
   "outputs": [],
   "source": [
    "# Selecciona la columna 'Primary Type' de las todas filas. Aplica la funcion unique sobre esta seleccion para obtener todos los valores que no se repitan\n",
    "pd.unique(df.loc[:,'Primary Type'])"
   ]
  },
  {
   "cell_type": "code",
   "execution_count": null,
   "metadata": {},
   "outputs": [],
   "source": [
    "# Cuenta el numero de delitos de cada tipo\n",
    "ds = pd.value_counts(df.loc[:,'Primary Type']).sort_values(ascending=True)"
   ]
  },
  {
   "cell_type": "code",
   "execution_count": null,
   "metadata": {},
   "outputs": [],
   "source": [
    "# Ordenar ascendentemente\n",
    "ds = ds.sort_values(ascending=True)"
   ]
  },
  {
   "cell_type": "code",
   "execution_count": null,
   "metadata": {},
   "outputs": [],
   "source": [
    "import matplotlib.pyplot as plt\n",
    "# Graficar ds con plt.barh. Primer parametro son los tipos de delito y el segundo las cantidades\n",
    "# El orden de las instrucciones importa. La primera es el tamano siempre\n",
    "plt.figure(figsize=(10,10))\n",
    "plt.title(\"Crimenes 2014 Chicago\")\n",
    "plt.barh(ds.index, ds.values)\n",
    "plt.grid(axis='x')"
   ]
  },
  {
   "cell_type": "markdown",
   "metadata": {},
   "source": [
    "<a id='act4'></a>\n",
    "## ACTIVIDAD 4: Crear columnas Day, Month y Hour\n",
    "\n",
    "En el dataframe cargado, el campo 'Date' contiene la fecha del delito en formato \"mm/dd/aaaa hh:mm:ss AM|PM\". Si queremos analizar los datos en función del día, el mes, la hora, etc., conviene separar este campo y crear columnas específicas para el día, el mes, etc. Esto puede hacerse mediante las funciones `map` o `apply`. La segunda es más flexible y potente, pero muy lenta para dataframes con muchas filas, por lo que usaremos la primera.\n",
    "\n",
    "1. Consulta el tutorial `pandas_dataframe.ipynb` mencionado anteriormente para entender el uso de la función `map`.\n",
    "1. Implementa las funciones `get_dia` y `get_hora` de modo similar a como está implementada `get_mes`. La función `get_hora` debe, además, convertir la hora de formato 12h a formato 24h. Para ello, en primer lugar se deberá dejar la hora en el rango [0-11] mediante la operación `%12`y, a continuación, si el último campo de la fecha es 'PM', se deberá sumar 12 a este valor.\n",
    "\n",
    "    > **Nota:** No se pide `get_año` porque el dataframe ya tiene un campo `Year`.\n",
    "\n",
    "1. Utiliza la función `map` para crear en el dataframe las nuevas columnas 'Day', 'Month' y 'Hour'\n",
    "1. Muestra las primeras filas del dataframe resultante y comprueba que se hayan creado correctamente las nuevas columnas.\n",
    "\n",
    "[Volver al índice](#indice)"
   ]
  },
  {
   "cell_type": "code",
   "execution_count": null,
   "metadata": {
    "collapsed": true
   },
   "outputs": [],
   "source": [
    "# Crear las tres funciones\n",
    "import re\n",
    "\n",
    "def get_mes(fecha):\n",
    "    '''\n",
    "    Recibe una fecha con formato \"mm/dd/aaaa hh:mm:ss AM|PM\"\n",
    "    Devuelve el mes mm convertido a tipo int\n",
    "    '''\n",
    "    items =  re.split(':|/| ', fecha)  # Lista con cada uno de los campos que componen la fecha por separado  \n",
    "    return int(items[0])\n",
    "\n",
    "def get_dia(fecha):\n",
    "    '''\n",
    "    Recibe una fecha con formato \"mm/dd/aaaa hh:mm:ss AM|PM\"\n",
    "    Devuelve el dia dd convertido a tipo int\n",
    "    '''\n",
    "    items = re.split(':|/| ', fecha)  # Lista con cada uno de los campos que componen la fecha por separado\n",
    "    return int(items[1])\n",
    "\n",
    "def get_hora(fecha):\n",
    "    '''\n",
    "    Recibe una fecha con formato \"mm/dd/aaaa hh:mm:ss AM|PM\"\n",
    "    Devuelve la hora hh convertida al formato 24h en tipo int\n",
    "    '''\n",
    "    items = re.split(':|/| ', fecha)  # Lista con cada uno de los campos que componen la fecha por separado\n",
    "    hora = int(items[3]) % 12\n",
    "    if items[-1] == 'PM':\n",
    "        hora += 12\n",
    "    return hora"
   ]
  },
  {
   "cell_type": "code",
   "execution_count": null,
   "metadata": {},
   "outputs": [],
   "source": [
    "# Usar map para crear las nuevas columnas 'Day' 'Month' y 'Hour'\n",
    "df['Day'] = df['Date'].map(get_dia)\n",
    "df['Month'] = df['Date'].map(get_mes)\n",
    "df['Hour'] = df['Date'].map(get_hora)"
   ]
  },
  {
   "cell_type": "code",
   "execution_count": null,
   "metadata": {},
   "outputs": [],
   "source": [
    "# Muestra las primeras filas del Data Frame resultante para comprobar que se hayan creado correctamente las nuevas columnas\n",
    "df.head()"
   ]
  },
  {
   "cell_type": "markdown",
   "metadata": {},
   "source": [
    "<a id='act5'></a>\n",
    "## ACTIVIDAD 5: Frecuencia de delitos en función del día, mes y hora\n",
    "\n",
    "Una vez creadas las columnas Day, Month, Year y Hour, podemos analizar los datos en función de estas variables. \n",
    "\n",
    "- Muestra gráficas de barras verticales del número de delitos en función de la hora, día y mes, con el objetivo de detectar si hay alguna relación entre estas variables y la actividad delictiva.\n",
    "- Muestra también una gráfica de barras del número de delitos en función del mes, en este caso particularizado únicamente para los delitos relacionados con el juego (Primary Type = GAMBLING).\n",
    "- Muestra las cuatro gráficas en una sola figura. Consulta el tutorial `pandas_dataframe.ipynb` para ver cómo crear múltiples gráficas en una sola figura.\n",
    "\n",
    "[Volver al índice](#indice)"
   ]
  },
  {
   "cell_type": "markdown",
   "metadata": {},
   "source": [
    "### Delitos en funcion de HORA"
   ]
  },
  {
   "cell_type": "code",
   "execution_count": null,
   "metadata": {
    "collapsed": true
   },
   "outputs": [],
   "source": [
    "# Grafico de barras verticales del numero de delitos en funcion de HORA\n",
    "\n",
    "# Cuenta el numero de delitos en cada hora que hay, despues de agruparlos por HORA. Ordenarlos por hora\n",
    "ds1 = pd.value_counts(df.loc[:,'Hour']).sort_index(ascending=True)\n",
    "\n",
    "# Graficar ds1 con plt.bar. Primer parametro son los tipos de delito y el segundo las cantidades\n",
    "# El orden de las instrucciones importa. La primera es el tamano siempre\n",
    "plt.figure(figsize=(6,6))\n",
    "plt.title(\"Delitos en funcion de HORA\")\n",
    "plt.bar(ds1.index, ds1.values)\n",
    "plt.grid(axis='y')"
   ]
  },
  {
   "cell_type": "markdown",
   "metadata": {},
   "source": [
    "### Delitos en funcion de DIA"
   ]
  },
  {
   "cell_type": "code",
   "execution_count": null,
   "metadata": {},
   "outputs": [],
   "source": [
    "# Grafico de barras verticales del numero de delitos en funcion de DIA\n",
    "\n",
    "# Cuenta el numero de delitos en cada dia que hay, despues de agruparlos por DIA. Ordenarlos por dia\n",
    "ds2 = pd.value_counts(df.loc[:,'Day']).sort_index(ascending=True)\n",
    "\n",
    "# Graficar ds2 con plt.barh. Primer parametro son los tipos de delito y el segundo las cantidades\n",
    "# El orden de las instrucciones importa. La primera es el tamano siempre\n",
    "plt.figure(figsize=(6,6))\n",
    "plt.title(\"Delitos en funcion de DIA\")\n",
    "plt.bar(ds2.index, ds2.values)\n",
    "plt.grid(axis='y')\n"
   ]
  },
  {
   "cell_type": "markdown",
   "metadata": {},
   "source": [
    "### Delitos en funcion de MES"
   ]
  },
  {
   "cell_type": "code",
   "execution_count": null,
   "metadata": {},
   "outputs": [],
   "source": [
    "# Grafico de barras verticales del numero de delitos en funcion de MES\n",
    "\n",
    "# Cuenta el numero de delitos en cada mes que hay, despues de agruparlos por mes. Ordenarlos por mes\n",
    "ds3 = pd.value_counts(df.loc[:,'Month']).sort_index(ascending=True)\n",
    "\n",
    "# Graficar ds3 con plt.barh. Primer parametro son los tipos de delito y el segundo las cantidades\n",
    "# El orden de las instrucciones importa. La primera es el tamano siempre\n",
    "plt.figure(figsize=(6,6))\n",
    "plt.title(\"Delitos en funcion de MES\")\n",
    "plt.bar(ds3.index, ds3.values)\n",
    "plt.grid(axis='y')\n"
   ]
  },
  {
   "cell_type": "markdown",
   "metadata": {},
   "source": [
    "### Delitos de GAMBLING en funcion de MES"
   ]
  },
  {
   "cell_type": "code",
   "execution_count": null,
   "metadata": {},
   "outputs": [],
   "source": [
    "# Grafico de barras verticales del numero de delitos de GAMBLING en funcion de MES\n",
    "\n",
    "# Genera una serie auxiliar con el mes de todas las filas donde el tipo de delito es gambling\n",
    "ds4 = df.loc[df['Primary Type'] == 'GAMBLING', 'Month']\n",
    "\n",
    "# Agrupar el numero de delitos en cada mes que hay y ordenarlos por mes \n",
    "ds4 = pd.value_counts(ds4).sort_index(ascending=True)\n",
    "\n",
    "# Las dos anteriores se podrian agrupar en una sola linea\n",
    "\n",
    "# Graficar\n",
    "plt.figure(figsize=(6,6))\n",
    "plt.title(\"Delitos de GAMBLING por MES\")\n",
    "plt.bar(ds4.index, ds4.values)\n",
    "plt.grid(axis='y')"
   ]
  },
  {
   "cell_type": "markdown",
   "metadata": {},
   "source": [
    "### Las 4 graficas juntas"
   ]
  },
  {
   "cell_type": "code",
   "execution_count": null,
   "metadata": {},
   "outputs": [],
   "source": [
    "plt.figure(figsize=(10, 10)) # Tamaño total de la figura\n",
    "\n",
    "# Gráfica 1\n",
    "plt.subplot(2, 2, 1) \n",
    "plt.title('Delitos en funcion de HORA')\n",
    "plt.bar(ds1.index, ds1.values)\n",
    "\n",
    "# Gráfica 2\n",
    "plt.subplot(2, 2, 2) \n",
    "plt.title('Delitos en funcion de DIA')\n",
    "plt.bar(ds2.index, ds2.values)\n",
    "\n",
    "# Gráfica 3\n",
    "plt.subplot(2, 2, 3) \n",
    "plt.title('Delitos en funcion de MES')\n",
    "plt.bar(ds3.index, ds3.values)\n",
    "\n",
    "# Gráfica 4\n",
    "plt.subplot(2, 2, 4) \n",
    "plt.title('Delitos de GAMBLING por MES')\n",
    "plt.bar(ds4.index, ds4.values)"
   ]
  },
  {
   "cell_type": "markdown",
   "metadata": {},
   "source": [
    "<a id='act6'></a>\n",
    "## ACTIVIDAD 6: Localización geográfica de los delitos\n",
    "\n",
    "Con el fin de visualizar la distribución geográfica de los delitos, muestra un *scatter plot* con las variables 'Latitude' frente a 'Longitude'. \n",
    "\n",
    "1. Utiliza la función `plt.scatter(x,y)` para generar el gráfico, donde x debe ser la longitud e y la latitud.\n",
    "1. Observa que el tamaño de los puntos es excesivamente grande en relación al tamaño de la gráfica. Para corregirlo, añade el parámetro `s=0.01` en la llamada a la función `scatter` para cambiar el tamaño de los puntos, y utiliza la función `plt.figure(figsize=(10, 10))` para cambiar el tamaño de la gráfica.\n",
    "1. Con el fin de comprobar si ciertos delitos se localizan en puntos concretos de la ciudad, sobreimprime otro *scatter plot* con la geolocalización de los delitos de juego ('Primary Type = GAMBLING). Pon el tamaño del punto a 1 y el color magenta (`s=1, c='magenta'`).\n",
    "1. Haz lo mismo para los delitos de prostitución ('Primary Type = PROSTITUTION). Pon el tamaño del punto a 1 y el color 'red'.\n",
    "\n",
    "[Volver al índice](#indice)"
   ]
  },
  {
   "cell_type": "code",
   "execution_count": null,
   "metadata": {
    "collapsed": true
   },
   "outputs": [],
   "source": [
    "# Graficar un ScatterPlot de todos los delitos\n",
    "plt.figure(figsize=(10, 10))\n",
    "plt.title(\"Localizacion geografica de los delitos\")\n",
    "plt.scatter(df['Longitude'], df['Latitude'], s=0.01)\n",
    "\n",
    "# Graficar un ScatterPlot nuevo con solo los delitos de GAMBLING\n",
    "df_aux = df.loc[df['Primary Type'] == 'GAMBLING', ['Longitude', 'Latitude']]\n",
    "plt.scatter(df_aux['Longitude'], df_aux['Latitude'], s=2, c='magenta')\n",
    "\n",
    "# Graficar un ScatterPlot nuevo con solo los delitos de PROSTITUTION\n",
    "df_aux = df.loc[df['Primary Type'] == 'PROSTITUTION', ['Longitude', 'Latitude']]\n",
    "plt.scatter(df_aux['Longitude'], df_aux['Latitude'], s=2, c='red')"
   ]
  }
 ],
 "metadata": {
  "kernelspec": {
   "display_name": "Python 3",
   "language": "python",
   "name": "python3"
  },
  "language_info": {
   "codemirror_mode": {
    "name": "ipython",
    "version": 3
   },
   "file_extension": ".py",
   "mimetype": "text/x-python",
   "name": "python",
   "nbconvert_exporter": "python",
   "pygments_lexer": "ipython3",
   "version": "3.9.7"
  }
 },
 "nbformat": 4,
 "nbformat_minor": 2
}
