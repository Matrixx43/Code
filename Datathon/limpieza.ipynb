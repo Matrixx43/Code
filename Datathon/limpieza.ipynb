{
 "cells": [
  {
   "cell_type": "markdown",
   "metadata": {},
   "source": [
    "# Team Origin Data Visualization\n",
    "\n",
    "### Analisis de datos para la visualizacion de Atida Mifarma\n",
    "\n",
    "\n",
    "\n",
    "\n"
   ]
  },
  {
   "cell_type": "markdown",
   "metadata": {},
   "source": [
    "## Parte 1: Importar datos con pandas"
   ]
  },
  {
   "cell_type": "code",
   "execution_count": null,
   "metadata": {},
   "outputs": [],
   "source": [
    "import pandas as pd\n",
    "\n",
    "\n",
    "# Almacenar datos en un dataframe\n",
    "df = pd.read_csv('items_ordered_2years.txt', delimiter='|', on_bad_lines='skip')\n",
    "\n",
    "# El parametro on_bad_lines='skip' elimina 10 lineas del fichero original que dan error\n",
    "\n",
    "# Quitar errores de espacios al principio o al final\n",
    "df['zipcode'] = df['zipcode'].str.strip()\n",
    "\n",
    "df.head(2)\n"
   ]
  },
  {
   "cell_type": "markdown",
   "metadata": {},
   "source": [
    "## Parte 2: Limpieza del fichero items_ordered_2years.txt"
   ]
  },
  {
   "cell_type": "markdown",
   "metadata": {},
   "source": [
    "### Limpiar codigos postales\n",
    "\n",
    "Algunos codigos postales son de otros paises. Estos tienen un formato distinto a espanol, que es de cinco numeros \"#####\".\n",
    "\n",
    "Ademas hay otros errores, y los mas comunes se separan caso por caso para poder ser corregidos"
   ]
  },
  {
   "cell_type": "code",
   "execution_count": null,
   "metadata": {},
   "outputs": [],
   "source": [
    "# Encuentra las lineas con un codigo postal distinto del espanol\n",
    "def zipcode_espanol(row):\n",
    "    zipcode = str(row['zipcode'])\n",
    "    city = str(row['city'])\n",
    "    '''\n",
    "    Devuelve >10 para las estaciones donde el codigo postal este ausente o sea extranjero y 0 para los espanoles\n",
    "    Esto detecta codigos postales de otros paises que no se van a incluir en el analisis\n",
    "    Por ejemplo los Cogidos Postales de Portugal tienen el formato '1000-017'\n",
    "    Los de Inglaterra tienen el formato 'NW10 5XA' o similar\n",
    "\n",
    "    Tambien detecta los tipos de errores que hemos visto que son mas comunes entre los cp espanoles para poder ser corregidos\n",
    "    '''\n",
    "    # Si el codigo es espanol\n",
    "    if len(zipcode) <= 5 and zipcode.isdigit():\n",
    "        return 0\n",
    "    # Comprueba si al permutar city y zipcode si que da un codigo postal espanol\n",
    "    if len(city) <= 5 and city.isdigit() and zipcode.isalpha():\n",
    "        return 2 \n",
    "    # Si el codigo es portugues\n",
    "    if '-' in zipcode:\n",
    "        return 11\n",
    "    # Comprueba si al cambiar 'o' por 0 se queda un codigo postal espanol\n",
    "    if len(zipcode) <= 5 and zipcode.replace('o', '0').isdigit():\n",
    "        return 3\n",
    "    # Comprueba si al cambiar 'O' por 0 se queda un codigo postal espanol\n",
    "    if len(zipcode) <= 5 and zipcode.replace('O', '0').isdigit():\n",
    "        return 4\n",
    "    # Si ambos zipcode y city son texto\n",
    "    if zipcode.isalpha() and city.isalpha():\n",
    "        return 11\n",
    "    # Si el codigo es ingles\n",
    "    if len(zipcode.split()) > 1:\n",
    "        return 11\n",
    "    # Si el codigo es chino\n",
    "    if len(zipcode) > 5 and zipcode.isdigit():\n",
    "        return 11\n",
    "    # Comprueba si al quitar un espacio al principio da un cp espanol\n",
    "    if zipcode[0] == ' ' and zipcode[1:].isdigit() and len(zipcode) == 6:\n",
    "        return 5\n",
    "    # Comprueba si al quitar un espacio al final da un cp espanol\n",
    "    if zipcode[-1] == ' 'and zipcode[:-1].isdigit() and len(zipcode) == 6:\n",
    "        return 5\n",
    "    # Comprueba si al quitar un punto da un codigo postal espanol\n",
    "    if len(zipcode.replace('.', '')) <= 5 and zipcode.replace('.', '').isdigit():\n",
    "        return 6\n",
    "    # Si hay alguna combinacion de caracteres y letras\n",
    "    if not zipcode.isalpha() and not zipcode.isdigit():\n",
    "        return 11\n",
    "    # En el resto de casos, eliminarlos\n",
    "    return 11\n",
    "    "
   ]
  },
  {
   "cell_type": "code",
   "execution_count": null,
   "metadata": {},
   "outputs": [],
   "source": [
    "# Crear nueva columna con un codigo que determina si es un codigo postal no valido\n",
    "df['zip_error'] = df.apply(zipcode_espanol, axis=1)"
   ]
  },
  {
   "cell_type": "markdown",
   "metadata": {},
   "source": [
    "### Corregir los errores en los codigos postales"
   ]
  },
  {
   "cell_type": "code",
   "execution_count": null,
   "metadata": {},
   "outputs": [],
   "source": [
    "# Corregir errores de permutar city y zipcode       Tipo=2\n",
    "cond = df['zip_error'] == 2\n",
    "df.loc[cond, ['city','zipcode']] = df.loc[cond, ['zipcode', 'city']].values\n",
    "\n",
    "# Corregir errores de quitar espacios\n",
    "# Se han corregido al principio aplicando str.strip()\n",
    "\n",
    "# Corregir el resto de errores identificados\n",
    "# Se han corregido a mano para los errores mas comunes identificados"
   ]
  },
  {
   "cell_type": "code",
   "execution_count": null,
   "metadata": {},
   "outputs": [],
   "source": [
    "df.count()"
   ]
  },
  {
   "cell_type": "markdown",
   "metadata": {},
   "source": [
    "### Elimina los ausentes, codigos extranjeros y otros errores\n",
    "\n",
    "Todos aquellas filas que:\n",
    "\n",
    "- Les falta el CP o la ciudad\n",
    "\n",
    "- Son codigos de otros paises\n",
    "\n",
    "- No incluyen el CP y en vez de eso incluyen el nombre de la ciudad\n",
    "por ejemplo city=\"Madrid\" zipcode=\"Madrid\"\n",
    "\n",
    "- Tienen otro tipo de errores mas raros, como empezar por \"-\", contener letras en vez de numeros, contener \"/\", etc.\n",
    "\n",
    "\n",
    "Todas esas filas son eliminadas para dejar un dataset limpio"
   ]
  },
  {
   "cell_type": "code",
   "execution_count": null,
   "metadata": {},
   "outputs": [],
   "source": [
    "# Mantiene todas las lineas con los errores corregidos\n",
    "# Elimina las lineas con los errores de codigos extranjeros y otros errores\n",
    "df = df[df.zip_error < 3]\n",
    "\n",
    "# Elimina la columna zip_error que ya no hace falta al haber acabado la limpieza\n",
    "del df['zip_error']\n",
    "\n",
    "# Elimina las otras filas con datos faltantes\n",
    "df.dropna(axis='rows', how='any', inplace=True)"
   ]
  },
  {
   "cell_type": "markdown",
   "metadata": {},
   "source": [
    "## Parte 3: Cambios en las columnas"
   ]
  },
  {
   "cell_type": "code",
   "execution_count": null,
   "metadata": {},
   "outputs": [],
   "source": [
    "# Definir funciones para mapear con map y apply a estas nuevas columnas\n",
    "\n",
    "import re\n",
    "from datetime import datetime\n",
    "\n",
    "def get_weekday(fecha):\n",
    "    '''\n",
    "    Recibe una fecha con formato \"aaaa-mm-dd hh:mm:ss\"\n",
    "    Devuelve el nombre del dia de la semana: Monday, Tuesday...\n",
    "    '''\n",
    "    days = [\"Lunes\", \"Martes\", \"Miercoles\",\n",
    "        \"Jueves\", \"Viernes\", \"Sabado\", \"Domingo\"]\n",
    "    \n",
    "    items =  re.split(':|-| ', fecha)  # Lista con cada uno de los campos que componen la fecha por separado  \n",
    "    x = datetime(int(items[0]), int(items[1]), int(items[2]), int(items[3]), int(items[4]), int(items[5]))\n",
    "    return(days[x.weekday()])\n",
    "\n",
    "def corregir_base_cost(row):\n",
    "    '''\n",
    "    Soluciona los errores de algunas entradascon un \"base_cost\" demasiado alto relativo al \"price\"\n",
    "    Por ejemplo: \"price\" = 54.06 y \"base_cost\" = 47000.02\n",
    "    Entendemos que son errores de poner la coma demasiado a la derecha.\n",
    "    Se solucionan dividiendo base_cost entre 10 hasta que quede relativamente normal\n",
    "    En este ejemplo quedaria \"price\" = 54.06 y \"base_cost\" = 47.00002\n",
    "    \"price\" siempre debe ser mayor que \"base_cost\" o de lo contrario generaria perdidas para la empresa\n",
    "    '''\n",
    "    price = float(row['price'])\n",
    "    base_cost = float(row['base_cost'])\n",
    "    # Establece un criterio para filtrar los datos anomalos\n",
    "    if price > 1 and base_cost / price > 60:\n",
    "        # Dividir entre 10 para solucionar el error del fichero hasta que sea un coste normal relativo al precio\n",
    "        while base_cost > price:\n",
    "            base_cost /= 10\n",
    "    return base_cost\n",
    "\n",
    "def obtener_provincia(cp):\n",
    "    # cp = codigo postal\n",
    "    relacion = {'04':'Almería',\n",
    "    '11':'Cádiz',\n",
    "    '14':'Córdoba',\n",
    "    '18':'Granada',\n",
    "    '21':'Huelva',\n",
    "    '23':'Jaén',\n",
    "    '29':'Málaga',\n",
    "    '41':'Sevilla',\n",
    "    '22':'Huesca',\n",
    "    '44':'Teruel',\n",
    "    '50':'Zaragoza',\n",
    "    '33':'Asturias',\n",
    "    '07':'Balears, Illes',\n",
    "    '35':'Palmas, Las',\n",
    "    '38':'Santa Cruz de Tenerife',\n",
    "    '39':'Cantabria',\n",
    "    '05':'Ávila',\n",
    "    '09':'Burgos',\n",
    "    '24':'León',\n",
    "    '34':'Palencia',\n",
    "    '37':'Salamanca',\n",
    "    '40':'Segovia',\n",
    "    '42':'Soria',\n",
    "    '47':'Valladolid',\n",
    "    '49':'Zamora',\n",
    "    '02':'Albacete',\n",
    "    '13':'Ciudad Real',\n",
    "    '16':'Cuenca',\n",
    "    '19':'Guadalajara',\n",
    "    '45':'Toledo',\n",
    "    '08':'Barcelona',\n",
    "    '17':'Girona',\n",
    "    '25':'Lleida',\n",
    "    '43':'Tarragona',\n",
    "    '03':'Alicante/Alacant',\n",
    "    '12':'Castellón/Castelló',\n",
    "    '46':'Valencia/València',\n",
    "    '06':'Badajoz',\n",
    "    '10':'Cáceres',\n",
    "    '15':'Coruña, A',\n",
    "    '27':'Lugo',\n",
    "    '32':'Ourense',\n",
    "    '36':'Pontevedra',\n",
    "    '28':'Madrid',\n",
    "    '30':'Murcia',\n",
    "    '31':'Navarra',\n",
    "    '01':'Araba/Álava',\n",
    "    '48':'Bizkaia',\n",
    "    '20':'Gipuzkoa',\n",
    "    '26':'Rioja, La'}\n",
    "    if cp[:2] in relacion:\n",
    "        return relacion[cp[:2]]\n",
    "    else:\n",
    "        return None\n",
    "\n",
    "def obtener_comunidad(cp):\n",
    "    # cp = codigo postal\n",
    "    relacion = {'04':'Andalucía',\n",
    "    '11':'Andalucía',\n",
    "    '14':'Andalucía',\n",
    "    '18':'Andalucía',\n",
    "    '21':'Andalucía',\n",
    "    '23':'Andalucía',\n",
    "    '29':'Andalucía',\n",
    "    '41':'Andalucía',\n",
    "    '22':'Aragón',\n",
    "    '44':'Aragón',\n",
    "    '50':'Aragón',\n",
    "    '33':'Asturias, Principado de',\n",
    "    '07':'Balears, Illes',\n",
    "    '35':'Canarias',\n",
    "    '38':'Canarias',\n",
    "    '39':'Cantabria',\n",
    "    '05':'Castilla y León',\n",
    "    '09':'Castilla y León',\n",
    "    '24':'Castilla y León',\n",
    "    '34':'Castilla y León',\n",
    "    '37':'Castilla y León',\n",
    "    '40':'Castilla y León',\n",
    "    '42':'Castilla y León',\n",
    "    '47':'Castilla y León',\n",
    "    '49':'Castilla y León',\n",
    "    '02':'Castilla-La Mancha',\n",
    "    '13':'Castilla-La Mancha',\n",
    "    '16':'Castilla-La Mancha',\n",
    "    '19':'Castilla-La Mancha',\n",
    "    '45':'Castilla-La Mancha',\n",
    "    '08':'Cataluña',\n",
    "    '17':'Cataluña',\n",
    "    '25':'Cataluña',\n",
    "    '43':'Cataluña',\n",
    "    '03':'Comunitat Valenciana',\n",
    "    '12':'Comunitat Valenciana',\n",
    "    '46':'Comunitat Valenciana',\n",
    "    '06':'Extremadura',\n",
    "    '10':'Extremadura',\n",
    "    '15':'Galicia',\n",
    "    '27':'Galicia',\n",
    "    '32':'Galicia',\n",
    "    '36':'Galicia',\n",
    "    '28':'Madrid, Comunidad de',\n",
    "    '30':'Murcia, Región de',\n",
    "    '31':'Navarra, Comunidad Foral de',\n",
    "    '01':'País Vasco',\n",
    "    '48':'País Vasco',\n",
    "    '20':'País Vasco',\n",
    "    '26':'Rioja, La'}\n",
    "    if cp[:2] in relacion:\n",
    "        return relacion[cp[:2]]\n",
    "    else:\n",
    "        return None\n",
    "    \n",
    "    \n"
   ]
  },
  {
   "cell_type": "code",
   "execution_count": null,
   "metadata": {},
   "outputs": [],
   "source": [
    "# Usar map para crear la nueva columna Weekday\n",
    "df['weekday'] = df['created_at'].map(get_weekday)"
   ]
  },
  {
   "cell_type": "code",
   "execution_count": null,
   "metadata": {},
   "outputs": [],
   "source": [
    "# Cambiar la columna discount_percent para que este en tanto por 1\n",
    "df['discount_percent'] = df['discount_percent'].div(100)\n",
    "\n",
    "# Renombra a \"discount\"\n",
    "df.rename(columns = {'discount_percent':'discount'}, inplace = True)"
   ]
  },
  {
   "cell_type": "code",
   "execution_count": null,
   "metadata": {},
   "outputs": [],
   "source": [
    "# Cambiar la columna base cost para solucionar datos anomalos de base_cost demasiado alto\n",
    "df['base_cost'] = df.apply(corregir_base_cost, axis=1)"
   ]
  },
  {
   "cell_type": "code",
   "execution_count": null,
   "metadata": {},
   "outputs": [],
   "source": [
    "# Anadir una nueva columna que indique la provincia del codigo postal\n",
    "df['provincia'] = df['zipcode'].map(obtener_provincia)\n",
    "\n",
    "# Anadir una nueva columna que indique la comunidad del codigo postal\n",
    "df['comunidad'] = df['zipcode'].map(obtener_comunidad)"
   ]
  },
  {
   "cell_type": "markdown",
   "metadata": {},
   "source": [
    "## Parte 4: Guardar datos limpios de items_ordered_2years.txt"
   ]
  },
  {
   "cell_type": "code",
   "execution_count": null,
   "metadata": {},
   "outputs": [],
   "source": [
    "df.to_csv('items_o_2_corregido.csv', sep='|', index=False)"
   ]
  },
  {
   "cell_type": "markdown",
   "metadata": {},
   "source": [
    "## Parte 5: Limpieza del fichero products.csv\n",
    "\n",
    "Este fichero tiene repetidas entradas de la columna product_id. Tras investigarlo, se trata de variaciones en la descripcion del producto, tales como cambiar el orden de las palabras, cambiar el idioma de la descripcion, cambiar alguna palabra de la descripcion. Sin embargo, campos como el sku y el URL se mantienen identicos entre los duplicaods.\n",
    "\n",
    "Vamos a eliminar los duplicados de esta columna para facilitar su uso posterior con SQLite y evitar lineas duplicadas.\n",
    "\n",
    "El criterio es mantener el primer product_id que aparezca en el fichero products.csv y eliminar los posteriores."
   ]
  },
  {
   "cell_type": "code",
   "execution_count": null,
   "metadata": {},
   "outputs": [],
   "source": [
    "import pandas as pd\n",
    "\n",
    "df = pd.read_csv(\"products.csv\", sep=\";\")\n",
    "\n",
    "df.head(2)"
   ]
  },
  {
   "cell_type": "code",
   "execution_count": null,
   "metadata": {},
   "outputs": [],
   "source": [
    "'''\n",
    "Un ejemplo de product_id repetido es el siguiente\n",
    "'''\n",
    "\n",
    "df2 = df.loc[df[\"product_id\"] == 78433, [\"product_id\", \"name\", \"sku\", \"picture\"]]\n",
    "\n",
    "df2"
   ]
  },
  {
   "cell_type": "code",
   "execution_count": null,
   "metadata": {},
   "outputs": [],
   "source": [
    "'''\n",
    "Elimina las lineas que tienen product_id repetidas, manteniendo la primera\n",
    "'''\n",
    "df = df.drop_duplicates(subset='product_id', keep='first')"
   ]
  },
  {
   "cell_type": "code",
   "execution_count": null,
   "metadata": {},
   "outputs": [],
   "source": [
    "# Comprobar que se han eliminado\n",
    "\n",
    "df2 = df.loc[df[\"product_id\"] == 78433, [\"product_id\", \"name\", \"sku\", \"picture\"]]\n",
    "\n",
    "df2"
   ]
  },
  {
   "cell_type": "code",
   "execution_count": null,
   "metadata": {},
   "outputs": [],
   "source": [
    "# Escribir a csv\n",
    "df.to_csv(\"products_corregido.csv\", sep=\"|\", index=False)"
   ]
  },
  {
   "cell_type": "markdown",
   "metadata": {},
   "source": [
    "## Parte 6: limpieza datos Renta Agencia Tributaria\n",
    "\n",
    "Este programa limpia los datos de renta media bruta de la Agencia Tributaria\n",
    "\n",
    "Fuente:\n",
    "https://sede.agenciatributaria.gob.es/AEAT/Contenidos_Comunes/La_Agencia_Tributaria/Estadisticas/Publicaciones/sites/irpfCodPostal/2018/jrubikf241580c2986609e03ee3216d79d3f457701c254e.html\n",
    "\n",
    "Como entrada recibe un fichero rentas_cp.txt y devuelve un fichero de la forma:\n",
    "\n",
    "Ciudad (str)-----------------Barrio (str)-----------------Codigo Postal (str)-----------------Renta media bruta (int)"
   ]
  },
  {
   "cell_type": "code",
   "execution_count": null,
   "metadata": {},
   "outputs": [],
   "source": [
    "import csv\n",
    "\n",
    "with open(\"renta_bruta_media_cp.csv\", \"w\") as fout:\n",
    "    writer = csv.writer(fout, lineterminator='\\n')\n",
    "    writer.writerow(['Ciudad', 'Barrio', 'Codigo Postal', 'Renta Bruta Media'])\n",
    "    with open(\"rentas_cp.txt\", \"r\") as fi:\n",
    "        # Indica las lineas con nombre del barrio y las que tienen datos, segun apareen en el fichero txt\n",
    "        iterator = 0\n",
    "        # Indica si se debe leer la siguiente linea de datos\n",
    "        iterator2 = 1\n",
    "        for line in fi.readlines():\n",
    "            # Si la linea es de inicio de una seccion de provincia\n",
    "            # En ese caso empieza por \"Contrae la tabla\"\n",
    "            if line[0:7] == \"Contrae\":\n",
    "                # Encontrar la posicion del final del nombre de la ciudad\n",
    "                pos = line.find(\"-\")\n",
    "                ciudad = line[17:pos]\n",
    "                iterator = 1\n",
    "\n",
    "            else:\n",
    "                if iterator == 1: # Si es una linea con el nombre del barrio\n",
    "                    if line[:5] != \"Resto\": # Omitir las lineas con info sobre el resto de la ciudad mezclado\n",
    "                        cp = line[:5]\n",
    "                        barrio = line[6:-1]\n",
    "                        iterator2 = 1\n",
    "                    else:\n",
    "                        iterator2 = 0\n",
    "                    iterator = 0\n",
    "                elif iterator2 == 1: # Si es una linea con datos de renta\n",
    "                    renta_bruta_media = int(line.split()[1].replace('.', ''))\n",
    "                    # Guardar los datos\n",
    "                    datos = []\n",
    "                    datos.append(ciudad)\n",
    "                    datos.append(barrio)\n",
    "                    datos.append(cp)\n",
    "                    datos.append(renta_bruta_media)\n",
    "                    writer.writerow(datos)\n",
    "                    iterator = 1\n",
    "\n"
   ]
  }
 ],
 "metadata": {
  "interpreter": {
   "hash": "f3b62754ac23a342d20402521e3c20901d33f08410c69963d9da285d0e6d356f"
  },
  "kernelspec": {
   "display_name": "Python 3.9.7 ('base')",
   "language": "python",
   "name": "python3"
  },
  "language_info": {
   "codemirror_mode": {
    "name": "ipython",
    "version": 3
   },
   "file_extension": ".py",
   "mimetype": "text/x-python",
   "name": "python",
   "nbconvert_exporter": "python",
   "pygments_lexer": "ipython3",
   "version": "3.9.7"
  },
  "orig_nbformat": 4
 },
 "nbformat": 4,
 "nbformat_minor": 2
}
