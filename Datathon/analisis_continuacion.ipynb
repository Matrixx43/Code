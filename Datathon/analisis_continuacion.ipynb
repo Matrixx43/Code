{
 "cells": [
  {
   "cell_type": "markdown",
   "metadata": {},
   "source": [
    "# Analisis parte 2\n",
    "\n",
    "Lo dividimos en 2 partes para facilitar la implementacion del codigo, ya que el ipynb anterior se estaba haciendo demasiado grande"
   ]
  },
  {
   "cell_type": "code",
   "execution_count": null,
   "metadata": {},
   "outputs": [],
   "source": [
    "import pandas as pd\n",
    "import sqlite3\n",
    "\n",
    "# Conectar a database de SQLite\n",
    "con = sqlite3.connect('atida.db')"
   ]
  },
  {
   "cell_type": "markdown",
   "metadata": {},
   "source": [
    "### Mejora del analisis de paquetizacion"
   ]
  },
  {
   "cell_type": "code",
   "execution_count": null,
   "metadata": {},
   "outputs": [],
   "source": [
    "# Numero de categorias presentees en cada pedido\n",
    "cat = pd.DataFrame()\n",
    "\n",
    "query ='''\n",
    "SELECT \"Categorias Distintas\", COUNT(*) Repeticiones\n",
    "FROM\n",
    "(\n",
    "SELECT num_order, COUNT(DISTINCT Categoria) \"Categorias Distintas\"\n",
    "FROM\n",
    "(SELECT num_order, analytic_category Categoria\n",
    "FROM items\n",
    "INNER JOIN products ON products.product_id = items.product_id\n",
    "WHERE Categoria IS NOT NULL)\n",
    "GROUP BY num_order\n",
    ")\n",
    "GROUP BY \"Categorias Distintas\"\n",
    "'''\n",
    "cat = pd.read_sql_query(query, con)\n",
    "\n",
    "# Mostrar el porcentaje de pedidos con producots de 1 sola categoria\n",
    "print(100 * cat.iloc[0][1] / cat[\"Repeticiones\"].sum())\n",
    "\n",
    "cat.head(10)"
   ]
  },
  {
   "cell_type": "code",
   "execution_count": null,
   "metadata": {},
   "outputs": [],
   "source": [
    "# Veces que en un mismo pedido hay productos de varias categorias\n",
    "\n",
    "# Por ejemplo, dada la categoria Higiene, cada vez que se compra un producto de Higiene,\n",
    "# un x% de las veces se incluye al menos otro porducto de higiene, un y% de las veces un producto de\n",
    "# Cosmetica y Belleza, un z% uno de Herbolario...\n",
    "\n",
    "# Parte 1: Obtener listado de las categorias de cada pedido\n",
    "\n",
    "categorias_pedido = pd.DataFrame()\n",
    "\n",
    "query = '''\n",
    "SELECT group_concat(Categoria) \"Lista Categorias\"\n",
    "FROM\n",
    "(SELECT num_order, analytic_category Categoria\n",
    "FROM items\n",
    "INNER JOIN products ON products.product_id = items.product_id\n",
    "WHERE Categoria IS NOT NULL)\n",
    "GROUP BY num_order\n",
    "'''\n",
    "\n",
    "categorias_pedido = pd.read_sql_query(query, con)\n",
    "\n",
    "# Filtrar para eliminar los pedidos de un solo producto. Porque en ese caso no hay paquetizacion.\n",
    "def longitud_lista(lista):\n",
    "    return len(lista.split(\",\"))\n",
    "\n",
    "# Nueva columna auxiliar\n",
    "categorias_pedido[\"bool\"] = categorias_pedido[\"Lista Categorias\"].map(longitud_lista)\n",
    "\n",
    "# Elimina las filas de un solo producto\n",
    "categorias_pedido = categorias_pedido[categorias_pedido[\"bool\"] != 1]\n",
    "\n",
    "# Elimina la columna auxiliar\n",
    "del categorias_pedido[\"bool\"]\n",
    "\n",
    "\n",
    "# Obtener, cada vez que un producto de estas categorias esta incluido, con que otras categorias se compra\n",
    "\n",
    "# Matriz para guardar los resultados\n",
    "resultados = pd.DataFrame({\"Categoria Buscada\": [\"Cosmética y Belleza\", \"Higiene\", \"Infantil\", \"Herbolario\", \"Nutrición\"],  \n",
    "                        \"Cosmética y Belleza\": [0, 0, 0, 0, 0],\n",
    "                        \"Higiene\": [0, 0, 0, 0, 0],\n",
    "                        \"Infantil\": [0, 0, 0, 0, 0],\n",
    "                        \"Herbolario\": [0, 0, 0, 0, 0],    \n",
    "                        \"Nutrición\": [0, 0, 0, 0, 0],})\n",
    "# Lista de categorias\n",
    "lista_categorias = [\"Cosmética y Belleza\", \"Higiene\", \"Infantil\", \"Herbolario\", \"Nutrición\"]\n",
    "\n",
    "# Loop sobre las categorias\n",
    "for categoria in resultados[\"Categoria Buscada\"]:\n",
    "    print(categoria)\n",
    "    # Loop sobre la lista de categorias de los pedidos\n",
    "    for listado in categorias_pedido[\"Lista Categorias\"]:\n",
    "        # Hacer split para convertirlo a lista\n",
    "        listado = listado.split(\",\")\n",
    "        # Si ese pedido incluye la categoria que buscamos:\n",
    "        if categoria in listado:\n",
    "            # Eliminar la categoria una vez para que no se cuente a si misma si solo aparece una vez\n",
    "            listado.remove(categoria)\n",
    "            # Eliminar categorias repetidas, ya que solo contamos si estan o no, y no cuantas veces estan\n",
    "            listado = list(dict.fromkeys(listado))\n",
    "            # Contar cuantas otras categorias incluye y anotarlo en resultados\n",
    "            for cat in listado:\n",
    "                # Ignorar categorias que no sean de las 5 elegidas\n",
    "                if cat in lista_categorias:\n",
    "                    resultados.loc[resultados[\"Categoria Buscada\"] == categoria, cat] = resultados.loc[resultados[\"Categoria Buscada\"] == categoria, cat] + 1\n",
    "          \n",
    "            \n",
    "resultados.to_csv(\"paquetizacion_categorias.csv\", sep=\"|\")"
   ]
  },
  {
   "cell_type": "markdown",
   "metadata": {},
   "source": [
    "### Calculo de algunas estadisticas"
   ]
  },
  {
   "cell_type": "code",
   "execution_count": null,
   "metadata": {},
   "outputs": [],
   "source": [
    "# Numero total de clientes\n",
    "query = '''\n",
    "SELECT COUNT(DISTINCT customer_id)\n",
    "FROM items\n",
    "'''\n",
    "\n",
    "cursor = con.cursor()\n",
    "cursor.execute(query)\n",
    "print(\"Numero total de clientes\")\n",
    "print(cursor.fetchall())"
   ]
  },
  {
   "cell_type": "code",
   "execution_count": null,
   "metadata": {},
   "outputs": [],
   "source": [
    "# Numero total de marcas\n",
    "query = '''\n",
    "SELECT COUNT(DISTINCT marca_value)\n",
    "FROM items\n",
    "INNER JOIN products ON items.product_id = products.product_id\n",
    "'''\n",
    "\n",
    "cursor = con.cursor()\n",
    "cursor.execute(query)\n",
    "print(\"Numero total de marcas\")\n",
    "print(cursor.fetchall())"
   ]
  },
  {
   "cell_type": "code",
   "execution_count": null,
   "metadata": {},
   "outputs": [],
   "source": [
    "# Numero total de productos\n",
    "query = '''\n",
    "SELECT COUNT(DISTINCT product_id)\n",
    "FROM items\n",
    "'''\n",
    "\n",
    "cursor = con.cursor()\n",
    "cursor.execute(query)\n",
    "print(\"Numero total de productos\")\n",
    "print(cursor.fetchall())"
   ]
  },
  {
   "cell_type": "code",
   "execution_count": null,
   "metadata": {},
   "outputs": [],
   "source": [
    "# Entradas de datos disponibles por dia\n",
    "# Crear dataframe para guardar datos\n",
    "entradas_por_dia = pd.DataFrame()\n",
    "\n",
    "query = '''\n",
    "SELECT \n",
    "strftime('%Y-%m-%d', created_at) Dia,\n",
    "COUNT(*)\n",
    "FROM items\n",
    "GROUP BY Dia\n",
    "ORDER BY Dia\n",
    "'''\n",
    "\n",
    "entradas_por_dia = pd.read_sql_query(query,con)\n",
    "\n",
    "entradas_por_dia.to_csv(\"entradas_por_dia.csv\", sep=\"|\")"
   ]
  },
  {
   "cell_type": "code",
   "execution_count": null,
   "metadata": {},
   "outputs": [],
   "source": [
    "# N. de productos por categoria\n",
    "# Crear dataframe para guardar datos\n",
    "productos_por_categoria = pd.DataFrame()\n",
    "\n",
    "query = '''\n",
    "SELECT analytic_category, COUNT(DISTINCT items.product_id)\n",
    "FROM items\n",
    "INNER JOIN products ON items.product_id = products.product_id\n",
    "WHERE analytic_category IS NOT NULL\n",
    "GROUP BY analytic_category\n",
    "'''\n",
    "\n",
    "productos_por_categoria = pd.read_sql_query(query,con)\n",
    "\n",
    "productos_por_categoria.to_csv(\"productos_por_categoria.csv\", sep=\"|\")\n"
   ]
  },
  {
   "cell_type": "code",
   "execution_count": null,
   "metadata": {},
   "outputs": [],
   "source": [
    "# Ingresos por mes\n",
    "\n",
    "# Crear dataframe para guardar datos\n",
    "ingresos_mes = pd.DataFrame()\n",
    "\n",
    "query = '''\n",
    "SELECT \n",
    "strftime('%Y-%m', created_at) Mes,\n",
    "SUM(price * qty_ordered * (1-discount)) Ingresos\n",
    "FROM items\n",
    "GROUP BY Mes\n",
    "ORDER BY Mes\n",
    "'''\n",
    "\n",
    "ingresos_mes = pd.read_sql_query(query,con)\n",
    "\n",
    "ingresos_mes.to_csv(\"insights_ingresos_mes.csv\", sep=\"|\", index=False)"
   ]
  },
  {
   "cell_type": "code",
   "execution_count": null,
   "metadata": {},
   "outputs": [],
   "source": [
    "# Numero total de clientes\n",
    "query = '''\n",
    "SELECT COUNT(DISTINCT customer_id)\n",
    "FROM items\n",
    "'''\n",
    "\n",
    "cursor = con.cursor()\n",
    "cursor.execute(query)\n",
    "print(\"Numero total de clientes\")\n",
    "print(cursor.fetchall())"
   ]
  },
  {
   "cell_type": "code",
   "execution_count": null,
   "metadata": {},
   "outputs": [],
   "source": [
    "# Numero total de productos vendidos\n",
    "query = '''\n",
    "SELECT SUM(qty_ordered)\n",
    "FROM items\n",
    "'''\n",
    "\n",
    "cursor = con.cursor()\n",
    "cursor.execute(query)\n",
    "print(\"Numero total de productos vendidos\")\n",
    "print(cursor.fetchall())"
   ]
  },
  {
   "cell_type": "code",
   "execution_count": null,
   "metadata": {},
   "outputs": [],
   "source": [
    "# Numero total de clientes 2017\n",
    "query = '''\n",
    "SELECT COUNT(DISTINCT customer_id)\n",
    "FROM items\n",
    "WHERE created_at < \"2018\"\n",
    "'''\n",
    "\n",
    "cursor = con.cursor()\n",
    "cursor.execute(query)\n",
    "print(\"Numero total de clientes\")\n",
    "print(cursor.fetchall())"
   ]
  },
  {
   "cell_type": "code",
   "execution_count": null,
   "metadata": {},
   "outputs": [],
   "source": [
    "# Pedidos que repiten marca\n",
    "repiten_marca = pd.DataFrame()\n",
    "\n",
    "query ='''\n",
    "SELECT \"Numero de marcas\", COUNT(*)\n",
    "FROM\n",
    "(\n",
    "SELECT num_order, COUNT(DISTINCT marca_value) \"Numero de marcas\"\n",
    "FROM\n",
    "(\n",
    "SELECT num_order, marca_value\n",
    "FROM\n",
    "items INNER JOIN products ON items.product_id = products.product_id\n",
    "WHERE marca_value IS NOT NULL\n",
    ")\n",
    "GROUP BY num_order\n",
    ")\n",
    "GROUP BY \"Numero de marcas\"\n",
    "'''\n",
    "\n",
    "\n",
    "repiten_marca = pd.read_sql_query(query, con)\n",
    "\n",
    "repiten_marca.head()"
   ]
  },
  {
   "cell_type": "code",
   "execution_count": null,
   "metadata": {},
   "outputs": [],
   "source": [
    "repiten_marca.to_clipboard()"
   ]
  },
  {
   "cell_type": "code",
   "execution_count": null,
   "metadata": {},
   "outputs": [],
   "source": [
    "# Clientes que solo compraron una vez\n",
    "\n",
    "repiten_marca = pd.DataFrame()\n",
    "\n",
    "query ='''\n",
    "SELECT Pedidos, COUNT(*) Clientes\n",
    "FROM\n",
    "(\n",
    "SELECT customer_id Cliente, COUNT(DISTINCT num_order) Pedidos\n",
    "FROM\n",
    "(\n",
    "SELECT customer_id, num_order\n",
    "FROM items\n",
    ")\n",
    "GROUP BY Cliente\n",
    ")\n",
    "GROUP BY Pedidos\n",
    "'''\n",
    "\n",
    "\n",
    "repiten_marca = pd.read_sql_query(query, con)\n",
    "\n",
    "repiten_marca.head()"
   ]
  },
  {
   "cell_type": "code",
   "execution_count": null,
   "metadata": {},
   "outputs": [],
   "source": [
    "# Ventas por cliente\n",
    "\n",
    "ventas_por_cliente = pd.DataFrame()\n",
    "\n",
    "query ='''\n",
    "SELECT customer_id Cliente, SUM(Ingresos) Ingresos\n",
    "FROM\n",
    "(\n",
    "SELECT customer_id, (price * qty_ordered * (1-discount)) Ingresos\n",
    "FROM items\n",
    ")\n",
    "GROUP BY Cliente\n",
    "ORDER BY Ingresos DESC\n",
    "'''\n",
    "\n",
    "\n",
    "ventas_por_cliente = pd.read_sql_query(query, con)\n",
    "\n",
    "ventas_por_cliente.to_clipboard()"
   ]
  },
  {
   "cell_type": "code",
   "execution_count": null,
   "metadata": {},
   "outputs": [],
   "source": [
    "ventas_por_cliente.to_clipboard()"
   ]
  },
  {
   "cell_type": "code",
   "execution_count": null,
   "metadata": {},
   "outputs": [],
   "source": [
    "ventas_por_cliente.hist(column='Ingresos')"
   ]
  }
 ],
 "metadata": {
  "interpreter": {
   "hash": "f3b62754ac23a342d20402521e3c20901d33f08410c69963d9da285d0e6d356f"
  },
  "kernelspec": {
   "display_name": "Python 3.9.7 ('base')",
   "language": "python",
   "name": "python3"
  },
  "language_info": {
   "codemirror_mode": {
    "name": "ipython",
    "version": 3
   },
   "file_extension": ".py",
   "mimetype": "text/x-python",
   "name": "python",
   "nbconvert_exporter": "python",
   "pygments_lexer": "ipython3",
   "version": "3.9.7"
  },
  "orig_nbformat": 4
 },
 "nbformat": 4,
 "nbformat_minor": 2
}
