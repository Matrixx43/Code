{
 "cells": [
  {
   "cell_type": "markdown",
   "metadata": {},
   "source": [
    "# Team Origin Data Visualization\n",
    "\n",
    "### Crear database de SQLite\n",
    "\n",
    "Analisis de datos para la visualizacion de Atida Mifarma"
   ]
  },
  {
   "cell_type": "markdown",
   "metadata": {},
   "source": [
    "### Importar datos con Pandas"
   ]
  },
  {
   "cell_type": "code",
   "execution_count": null,
   "metadata": {},
   "outputs": [],
   "source": [
    "import pandas as pd\n",
    "\n",
    "# Almacenar datos en un dataframe\n",
    "items = pd.read_csv('items_o_2_corregido.csv', delimiter='|')\n",
    "\n",
    "# Marcar la columna \"zipcode\" como string\n",
    "items[\"zipcode\"] = items[\"zipcode\"].astype(\"string\")\n",
    "\n",
    "# Corregir zipcodes a los que les han quitado 0's al principio por leerlos como numeros\n",
    "def anadir0(zipcode):\n",
    "    while len(zipcode) < 5:\n",
    "        zipcode = '0' + zipcode\n",
    "    return zipcode\n",
    "\n",
    "items[\"zipcode\"] = items[\"zipcode\"].map(anadir0)\n",
    "\n",
    "# Mostrar las 5 primeras lineas\n",
    "items.head()"
   ]
  },
  {
   "cell_type": "code",
   "execution_count": null,
   "metadata": {},
   "outputs": [],
   "source": [
    "# Almacenar datos en un dataframe\n",
    "products = pd.read_csv('products_corregido.csv', delimiter='|')\n",
    "\n",
    "# Mostrar las 2 primeras lineas\n",
    "products.head(2)"
   ]
  },
  {
   "cell_type": "code",
   "execution_count": null,
   "metadata": {},
   "outputs": [],
   "source": [
    "# Almacenar datos en un dataframe\n",
    "products_cat = pd.read_csv('products_categories_corregido.csv', delimiter=';')\n",
    "\n",
    "# Mostrar las 5 primeras lineas\n",
    "products_cat.head(2)"
   ]
  },
  {
   "cell_type": "markdown",
   "metadata": {},
   "source": [
    "### Crear Tablas en la Database de SQLite"
   ]
  },
  {
   "cell_type": "code",
   "execution_count": null,
   "metadata": {},
   "outputs": [],
   "source": [
    "import sqlite3\n",
    "\n",
    "# Conectar a database de SQLite\n",
    "con = sqlite3.connect('atida.db')\n",
    "\n",
    "# Escribir datos a tabla SQLite\n",
    "items.to_sql('items', con, if_exists='replace', index=False)\n",
    "\n",
    "products.to_sql('products', con, if_exists='replace', index=False)\n",
    "\n",
    "products_cat.to_sql('products_cat', con, if_exists='replace', index=False)\n"
   ]
  },
  {
   "cell_type": "code",
   "execution_count": null,
   "metadata": {},
   "outputs": [],
   "source": [
    "# Crear un objeto cursor\n",
    "cur = con.cursor()\n",
    "\n",
    "# Mostrar algunos contenidos para comprobar que se ha creado la tabla correctamente\n",
    "print(f'items: {items.num_order.count()}')\n",
    "for num in cur.execute('SELECT COUNT(num_order) FROM items'):\n",
    "    print(num[0])\n",
    "\n",
    "print(f'products: {products.product_id.count()}')\n",
    "for num in cur.execute('SELECT COUNT(product_id) FROM products'):\n",
    "    print(num[0])\n",
    "\n",
    "print(f'products_cat: {products_cat.sku.count()}')\n",
    "for num in cur.execute('SELECT COUNT(sku) FROM products_cat'):\n",
    "    print(num[0])\n",
    "    "
   ]
  },
  {
   "cell_type": "code",
   "execution_count": null,
   "metadata": {},
   "outputs": [],
   "source": [
    "# Cerrar conexion a  SQLite atida.db\n",
    "con.close()"
   ]
  }
 ],
 "metadata": {
  "interpreter": {
   "hash": "f3b62754ac23a342d20402521e3c20901d33f08410c69963d9da285d0e6d356f"
  },
  "kernelspec": {
   "display_name": "Python 3.9.7 ('base')",
   "language": "python",
   "name": "python3"
  },
  "language_info": {
   "codemirror_mode": {
    "name": "ipython",
    "version": 3
   },
   "file_extension": ".py",
   "mimetype": "text/x-python",
   "name": "python",
   "nbconvert_exporter": "python",
   "pygments_lexer": "ipython3",
   "version": "3.9.7"
  },
  "orig_nbformat": 4
 },
 "nbformat": 4,
 "nbformat_minor": 2
}
